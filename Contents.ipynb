{
 "cells": [
  {
   "cell_type": "markdown",
   "metadata": {},
   "source": [
    "# Excercice list of contents\n",
    "\n",
    " - **[Using_IPython_Interactive_Widgets.ipynb](./Using_IPython_Interactive_Widgets.ipynb)**\n",
    " - **[Setting up and running your first ROS Node](scripts/excercises/Setting_up_and_running_your_first_ROS_Node.ipynb)**\n",
    " - **[ROS concepts explained Topic, Service, Parameter](scripts/excercises/ROS_concepts_explained_Topic_Service_Parameter.ipynb)**\n",
    " - **[Using IPython Interactive Widgets to control a robot](./scripts/excercises/Using_IPython_Interactive_Widgets.ipynb)**\n",
    " - **[Visualizing robot senses using ROS and Bokeh library](./scripts/excercises/Visualizing_robot_senses.ipynb)**\n",
    " - **[Tour of ROS tools with examples](scripts/excercises/Tour_of_ROS_tools_with_examples.ipynb)**\n",
    " - **[Using_IPython_Interactive_Widgets.ipynb](./Using_IPython_Interactive_Widgets.ipynb)**"
   ]
  },
  {
   "cell_type": "code",
   "execution_count": null,
   "metadata": {},
   "outputs": [],
   "source": []
  }
 ],
 "metadata": {
  "kernelspec": {
   "display_name": "Python 3",
   "language": "python",
   "name": "python3"
  },
  "language_info": {
   "codemirror_mode": {
    "name": "ipython",
    "version": 3
   },
   "file_extension": ".py",
   "mimetype": "text/x-python",
   "name": "python",
   "nbconvert_exporter": "python",
   "pygments_lexer": "ipython3",
   "version": "3.5.2"
  }
 },
 "nbformat": 4,
 "nbformat_minor": 4
}
