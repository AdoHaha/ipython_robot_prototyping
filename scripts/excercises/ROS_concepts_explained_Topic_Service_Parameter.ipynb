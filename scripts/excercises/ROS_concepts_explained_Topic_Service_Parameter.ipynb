{
 "cells": [
  {
   "cell_type": "markdown",
   "metadata": {},
   "source": [
    "## ROS concepts explained Topic, Service, Parameter\n",
    "\n",
    "Topic, Service, and Parameter are the main parts of ROS. Each simplifies some particular type of communication inside ROS so that your robots can do stuff efficiently.\n",
    "\n",
    "In short:\n",
    "**Topic** is used when we don't care who writes the message and who reads the message as long as it is on the right topic and of the right format (i.e. \"What is the **temperature** outside?\" - someone asks. \"It is 5 **degrees Celcius**\" answers someone) \n",
    "\n",
    "**Service** is a different format, where we ask for some calculation or action and receive response **in return**.\n",
    "I.e. (I ask \"how do you do, robot?\", and I receive \"fine, thank you\").\n",
    "Both command and response need to be in a format that we agreed upon. Also, there can be only one agent (i.e. one robot) with a particular service. \n",
    "\n",
    "**Parameter** is a common database of parameters that can be read or written by ROS nodes (programms). Such parameters may be the hardware configuration, robot description or some other settings. Usually, they are read by a node when initializing (starting)."
   ]
  },
  {
   "cell_type": "code",
   "execution_count": null,
   "metadata": {},
   "outputs": [],
   "source": [
    "### we will again connect to the main server\n",
    "\n",
    "%env ROS_MASTER_URI=http://localhost:11311\n",
    "import rospy"
   ]
  },
  {
   "cell_type": "markdown",
   "metadata": {},
   "source": [
    "### ROS Topic\n",
    "\n",
    "Let's start from *ROS Topic*. You have used this protocol to read secret Ono message. **rostopic** program was smart enough to read this message automatically but normally we need to know what **message type** the topic has to read it. This is because the messages can be very different and actually have a whole structure inside. \n",
    "The message is **serialized** (coded) before being sent by **publisher** and then **deserialized** (decoded) by **subscriber**. The whole process is done automatically but we need to know the message type.\n",
    "\n",
    "### Exercise: \n",
    "*Let's look again at the topics that are there. In the field below get the list of the topics with their message types in format [[topic_name,message_type],[... ]].*"
   ]
  },
  {
   "cell_type": "code",
   "execution_count": null,
   "metadata": {},
   "outputs": [],
   "source": [
    "# read the topics here\n",
    "\n",
    "topics = ... \n",
    "print(topics)"
   ]
  },
  {
   "cell_type": "markdown",
   "metadata": {},
   "source": [
    "*HINT:*\n",
    "    You can find the function for finding published *topics* in the previous chapter: [setting_up_and_running_your_first_ROS_Node.ipynb](setting_up_and_running_your_first_ROS_Node.ipynb) "
   ]
  },
  {
   "cell_type": "markdown",
   "metadata": {},
   "source": [
    "You can see that there is topic called '/Ono/joint_state'. Let's read its  message stream using **rostopic** tool.\n",
    "\n",
    "### Exercise:\n",
    "\n",
    "*Read **Ono/joint_state** topic, using rostopic echo command, interupt kernel when fininshed*\n"
   ]
  },
  {
   "cell_type": "code",
   "execution_count": null,
   "metadata": {
    "scrolled": false
   },
   "outputs": [],
   "source": [
    "! echo \"put your command here to read /ono_joint_state topic,\\n interupt kernel when you finished\""
   ]
  },
  {
   "cell_type": "markdown",
   "metadata": {},
   "source": [
    "So this topic sends much more complicated messages. It uses one of common message types, called *Ono/joint_state*. As robots have multiple parts, connected using joints it is usually good to know how these joints are set. This can be used, for example, to visualize robot. The message has also a **header** that is a form of a **[timestamp](http://wiki.ros.org/ecl_time/Tutorials/Timestamps%20and%20Durations)** that gives us information when the message was sent. This is useful too, for example, use only the newest messages or even debug the communication if the header is strange or very old."
   ]
  },
  {
   "cell_type": "markdown",
   "metadata": {},
   "source": [
    "### Let's write our own publisher\n",
    "\n",
    "Ok, let's publish some messages."
   ]
  },
  {
   "cell_type": "code",
   "execution_count": null,
   "metadata": {},
   "outputs": [],
   "source": [
    "import rospy\n",
    "from std_msgs.msg import String\n",
    "\n",
    "#rospy... # initialize your node here! otherwise ROS will not know who and where your node is!\n",
    "rospy.init_node(\"my_name\", anonymous=True)"
   ]
  },
  {
   "cell_type": "markdown",
   "metadata": {},
   "source": [
    "Let's initialize the Publisher -- an object that publishes to the topic \"chatter\" a message in format of String. "
   ]
  },
  {
   "cell_type": "code",
   "execution_count": null,
   "metadata": {},
   "outputs": [],
   "source": [
    "my_publisher=rospy.Publisher(\"chatter\",String,queue_size=10)"
   ]
  },
  {
   "cell_type": "markdown",
   "metadata": {},
   "source": [
    "Ok, now let's publish some info. For simple messages like String, we can send the message super- easly."
   ]
  },
  {
   "cell_type": "code",
   "execution_count": null,
   "metadata": {
    "scrolled": true
   },
   "outputs": [],
   "source": [
    "my_publisher.publish(\"My first message!\")"
   ]
  },
  {
   "cell_type": "markdown",
   "metadata": {},
   "source": [
    "Ok but how to read what we have sent? One way is to use *rostopic echo* command but you cannot do this from Ipython this time because it will only show you the messages sent after you have started the program. You can do this by opening a Ubuntu terminal, using the icon on the left ![Ubuntu terminal icon](images/terminal.png)\n",
    "or shortcut Ctrl+Alt+T. Than put the command \n",
    "\n",
    "```rostopic echo /chatter``` \n",
    "\n",
    "\n",
    "When you re-run the publish command in Ipython, you should see your message appearing in the terminal."
   ]
  },
  {
   "cell_type": "markdown",
   "metadata": {},
   "source": [
    "Ok, with rospublish command our node became a ros publisher.\n",
    "We can see that using rosnode.get_node_info. To see the whole graph structure right now we can use graphical tool called rqt_graph (you can also start it in a seperate terminal)"
   ]
  },
  {
   "cell_type": "code",
   "execution_count": null,
   "metadata": {},
   "outputs": [],
   "source": [
    "!rqt_graph"
   ]
  },
  {
   "cell_type": "markdown",
   "metadata": {
    "collapsed": true
   },
   "source": [
    "What you see after running this command is whole ROS network graph. You can see your own node, among others, publishing on the /chatter topic. This type of communication allows for multiple senders and receivers."
   ]
  },
  {
   "cell_type": "markdown",
   "metadata": {},
   "source": [
    "### Let's write a Subscriber\n",
    "\n",
    "**Subscriber** is an object that receives messages written on a particular topic. We want to receive all **calls** to our subscriber so we will register a **callback function** to do stuff when we receive a new message. The easiest thing we can do with an incoming message is to print it, so let's put a *print* function as our callback function.\n",
    "\n",
    "After running the code below, you can check that your subscriber is working by using your previously defined publisher. Try to publish something to a /chatter topic!\n"
   ]
  },
  {
   "cell_type": "code",
   "execution_count": null,
   "metadata": {},
   "outputs": [],
   "source": [
    "my_subscriber = rospy.Subscriber(\"chatter\",String,print)"
   ]
  },
  {
   "cell_type": "markdown",
   "metadata": {},
   "source": [
    "As soon as you create a new subscriber, you will start receiving a stream of messages and you will start to see the incoming messages. In case of \"/chatter\" topic they are published by your and other publishers, but imagine that there is an automatic publisher publishing every couple of messages. This could become overwhelming!\n",
    "\n",
    "If you want to stop running the callback, use the unregister method.\n"
   ]
  },
  {
   "cell_type": "code",
   "execution_count": null,
   "metadata": {},
   "outputs": [],
   "source": [
    "my_subscriber.unregister()"
   ]
  },
  {
   "cell_type": "markdown",
   "metadata": {},
   "source": [
    "We can also write our own function and pass its name (its reference) to initialize Subscriber "
   ]
  },
  {
   "cell_type": "code",
   "execution_count": null,
   "metadata": {},
   "outputs": [],
   "source": [
    "# our own function, remember that String message is actually an object \n",
    "#with a .data field that actually consists the text string\n",
    "def write_reversed(message):\n",
    "    the_text=message.data #our String has a .data field\n",
    "    print(the_text[::-1])\n",
    "    \n",
    "\n",
    "# now we create a new subscriber\n",
    "\n",
    "new_subscriber= rospy.Subscriber(\"chatter\",String,write_reversed)"
   ]
  },
  {
   "cell_type": "markdown",
   "metadata": {},
   "source": [
    "This time, when you publish something to the \"chatter\" topic it will come reversed."
   ]
  },
  {
   "cell_type": "code",
   "execution_count": null,
   "metadata": {},
   "outputs": [],
   "source": [
    "new_subscriber.unregister()"
   ]
  },
  {
   "cell_type": "markdown",
   "metadata": {},
   "source": [
    "Remember to unregister, otherwise multiple functions will run when you receive new message **even** if you write a new subscriber with the same name.\n",
    "\n",
    "### What to do when you forget about that and create a new subscriber anyway?\n",
    "\n",
    "No worries ;) we have a trick to cover you -- we will remove all the callbacks to the subscriber"
   ]
  },
  {
   "cell_type": "code",
   "execution_count": null,
   "metadata": {},
   "outputs": [],
   "source": [
    "### all callbacks to a selected topics are stored in .impl.callbacks list, we can make this list empty\n",
    "\n",
    "print(new_subscriber.impl.callbacks) # you can see what is there\n",
    "new_subscriber.impl.callbacks=[]"
   ]
  },
  {
   "cell_type": "markdown",
   "metadata": {},
   "source": [
    "### Exercise:\n",
    "*Before we tackle this problem, try to write your own callback function to do something with received message. For example, read /how_long_is_my_message topic and print the length of the string*\n",
    "\n",
    "*HINT 1:* You can define a function using the normal\n",
    "\n",
    "    def some_function_name(message):\n",
    "        the stuff you do\n",
    "\n",
    "   and than pass the function _name_ as a callback so rospy.Subscriber(..., some_function_name)\n",
    "\n",
    "*HINT 2:* Remember that the message is an object with a field data (message.data) that actually has the string itself\n"
   ]
  },
  {
   "cell_type": "code",
   "execution_count": null,
   "metadata": {},
   "outputs": [],
   "source": [
    "def some_new_function(message):\n",
    "    ... #here do your magic\n",
    "    pass\n",
    "\n",
    "\n",
    "# here create a subscriber that uses your function\n",
    "subscriber2= ... "
   ]
  },
  {
   "cell_type": "code",
   "execution_count": null,
   "metadata": {},
   "outputs": [],
   "source": [
    "my_publisher.publish(\"My first letter!\") #Now you can check"
   ]
  },
  {
   "cell_type": "markdown",
   "metadata": {},
   "source": [
    "Now let's do something with the topic and publish the results back to the ROS"
   ]
  },
  {
   "cell_type": "code",
   "execution_count": null,
   "metadata": {},
   "outputs": [],
   "source": [
    "publisher_reversed= rospy.Publisher('chatter_reversed',String,queue_size=10)\n",
    "\n",
    "def reverse_and_publish(message):\n",
    "    '''the function takes the incoming message, reverses it and publishes back to ROS'''\n",
    "    \n",
    "    reversed_text=message.data[::-1]\n",
    "    publisher_reversed.publish(reversed_text)\n",
    "    \n",
    "    \n",
    "subscriber= rospy.Subscriber(\"chatter\",String,reverse_and_publish)    \n",
    "\n",
    "subscriber_reversed = rospy.Subscriber(\"chatter_reversed\",String,print)"
   ]
  },
  {
   "cell_type": "code",
   "execution_count": null,
   "metadata": {},
   "outputs": [],
   "source": [
    "### now when we publish to the chatter topic, a new message will appear at chatter_reversed, we read\n",
    "#it via subscriber_reversed\n",
    "\n",
    "my_publisher.publish('scitobor evol I')"
   ]
  },
  {
   "cell_type": "markdown",
   "metadata": {},
   "source": [
    "### Exercise:\n",
    "\n",
    "Ok, nice! \n",
    "\n",
    "Now create a new publisher, to some choosen topic (you decide) and  use it to publish the length of received string. That is your new function will modify the incomming messages, something like\n",
    "\n",
    "/how_long_is_my_message -> | your node | -> /message_length\n",
    "\n",
    "*HINT:*\n",
    "Call the newly created publisher from inside the callback function. \n",
    "\n",
    "*HINT 2* remember that if you publish as a String the field data needs to be an actual string not, for example integer. OR you can use other message types like int32\n",
    "\n"
   ]
  },
  {
   "cell_type": "code",
   "execution_count": null,
   "metadata": {},
   "outputs": [],
   "source": [
    "subscriber_nowy.impl.callbacks=[]\n",
    "subscriber_received.impl.callbacks=[]"
   ]
  },
  {
   "cell_type": "code",
   "execution_count": null,
   "metadata": {},
   "outputs": [],
   "source": [
    "from std_msgs.msg import Int32 # use this type if you want to publish the length \n",
    "\n",
    "\n",
    "topic_name= ... #create a topic name \n",
    "publisher_len= rospy.Publisher(topic_name,Int32,queue_size=10) #here we create a publisher with Int32 type\n",
    "\n",
    "def receive_and_modify(message):\n",
    "    \n",
    "    # here put your function logic \n",
    "    pass\n",
    "\n",
    "\n",
    "subscriber_new = ... # here create your subscriber that uses your callbac function (receive_and_modify)\n",
    "\n",
    "\n",
    "\n",
    "subscriber_received = rospy.Subscriber(topic_name,String,print)"
   ]
  },
  {
   "cell_type": "code",
   "execution_count": null,
   "metadata": {},
   "outputs": [],
   "source": [
    "my_publisher.publish(\"this message has a length of 31\")"
   ]
  },
  {
   "cell_type": "code",
   "execution_count": null,
   "metadata": {},
   "outputs": [],
   "source": [
    "subscriber_new.unregister()"
   ]
  },
  {
   "cell_type": "code",
   "execution_count": null,
   "metadata": {},
   "outputs": [],
   "source": [
    "subscriber_received.unregister()"
   ]
  },
  {
   "cell_type": "markdown",
   "metadata": {},
   "source": [
    "Super nice! What you did is a common strategy used in ROS. Instead of one program that does all the computations, each node takes some messages from different topics and publishes your own. You connect them together and have a computation structure to, for example do robot localisation. \n",
    "\n"
   ]
  },
  {
   "cell_type": "markdown",
   "metadata": {},
   "source": [
    "### ROS  Service\n",
    "\n",
    "Services are a common way to ask for some data/ calculation or change a state of the robot. \n",
    "\n",
    "Similar to ROS topic, both actors need to know the format of the message. There will be actually two formats, format of question and format of the answer. \n",
    "\n",
    "Let's see how such format looks"
   ]
  },
  {
   "cell_type": "code",
   "execution_count": null,
   "metadata": {
    "scrolled": true
   },
   "outputs": [],
   "source": [
    "!rossrv show ipython_robot_prototyping/Question "
   ]
  },
  {
   "cell_type": "markdown",
   "metadata": {},
   "source": [
    "What you can see is that for a question sent as a string \n",
    "the service will also respond with a string response.\n",
    "\n",
    "You can talk with Ono using this format of the message. To do this, we will use a **proxy function**, that is we will define something that uses the service but from our perspective looks like a normal function that _returns_ some value. Try running this function couple of times. "
   ]
  },
  {
   "cell_type": "code",
   "execution_count": null,
   "metadata": {},
   "outputs": [],
   "source": [
    "import rospy\n",
    "from ipython_robot_prototyping.srv import *\n",
    "\n",
    "\n",
    "talk_with_ono = rospy.ServiceProxy('Ono/chat', Question)"
   ]
  },
  {
   "cell_type": "markdown",
   "metadata": {},
   "source": [
    "Now we can talk with Ono using *talk_with_ono* function. Try it the function return value will be response from Ono, also Ono will say his response out loud ;)"
   ]
  },
  {
   "cell_type": "code",
   "execution_count": null,
   "metadata": {},
   "outputs": [],
   "source": [
    "talk_with_ono(\"what do you do?\") # modify this sentence "
   ]
  },
  {
   "cell_type": "markdown",
   "metadata": {},
   "source": [
    "As we can see, Ono is quite talkative. \n",
    "\n"
   ]
  },
  {
   "cell_type": "markdown",
   "metadata": {},
   "source": [
    "### ROS Param\n",
    "\n",
    "The last (common) way of communication between nodes is [**ROS Param**](http://wiki.ros.org/Parameter%20Server). \n",
    "\n",
    "All nodes have access to a common _dictionary_ like structure, from which they can read and write parameters.\n",
    "\n",
    "The typical scenario is that we write some setup parameters to ROS Parameter server instead than just to start a program with command line arguments. Other is to put elements that are used by multiple programs such as URDF robot models (nice example is here: [mymodelrobot.appspot.com](http://mymodelrobot.appspot.com)).\n",
    "\n",
    "Think of ROS Param as a place to put settings and common data of your ROS network. \n",
    "\n",
    "Using ROS Parameter is done via rosparam module.\n",
    "\n",
    "Let's see all current parameters"
   ]
  },
  {
   "cell_type": "code",
   "execution_count": null,
   "metadata": {
    "scrolled": false
   },
   "outputs": [],
   "source": [
    "import rosparam\n",
    "\n",
    "rosparam.list_params(\"/\")"
   ]
  },
  {
   "cell_type": "markdown",
   "metadata": {},
   "source": [
    "We can also list subset of the parameters, by putting *namespace* after the /"
   ]
  },
  {
   "cell_type": "code",
   "execution_count": null,
   "metadata": {},
   "outputs": [],
   "source": [
    "rosparam.list_params(\"/Ono\") # this will only show Ono parameters"
   ]
  },
  {
   "cell_type": "markdown",
   "metadata": {},
   "source": [
    "* rosparam.get_param * is for reading the parameters. We can read some particular parameters or sets of parameters"
   ]
  },
  {
   "cell_type": "code",
   "execution_count": null,
   "metadata": {
    "scrolled": true
   },
   "outputs": [],
   "source": [
    "print(rosparam.get_param(\"/Ono/age\"))\n",
    "print(rosparam.get_param(\"/Ono\"))"
   ]
  },
  {
   "cell_type": "markdown",
   "metadata": {},
   "source": [
    "### Additional info"
   ]
  },
  {
   "cell_type": "markdown",
   "metadata": {},
   "source": [
    "Rosparam can keep different types of parameters like floats, strings, integers, list or dictionaries. \n",
    "Dictionaries are special as they will become *adressable*\n",
    "\n",
    "While using .get_param, the parameter value must be a valid [YAML string](http://wiki.ros.org/rospy/Overview/Parameter%20Server) but you can use .get_param_raw to use python objects"
   ]
  },
  {
   "cell_type": "markdown",
   "metadata": {},
   "source": [
    "#### Some examples"
   ]
  },
  {
   "cell_type": "code",
   "execution_count": null,
   "metadata": {},
   "outputs": [],
   "source": [
    "import math\n",
    "\n",
    "# Setting a list parameter\n",
    "rosparam.set_param(\"/Ono/list_of_nicknames\",\"['the_bestest','knowledge_creator','robot_overlord']\")\n",
    "\n",
    "rosparam.set_param_raw(\"/Ono/favorite_number\",math.pi)\n",
    "\n",
    "rosparam.set_param_raw(\"/Ono/clothes_sizes\",{\"shoe\":31,\"hat\":\"Large\",\"pants\":12})\n",
    "\n",
    "## we can address the elements of the dictionary directely by /Ono/clothes_sizes/garderobe_part\n",
    "print(rosparam.get_param(\"Ono/clothes_sizes/pants\"))"
   ]
  },
  {
   "cell_type": "markdown",
   "metadata": {},
   "source": [
    "\n",
    "Normally your ROS Node would read such params at start, to set up things"
   ]
  },
  {
   "cell_type": "code",
   "execution_count": null,
   "metadata": {},
   "outputs": [],
   "source": [
    "age= rosparam.get_param(\"/Ono/age\")\n",
    "\n",
    "if age>18:\n",
    "    print(\"Ono can party hard 🍻\")\n",
    "else:\n",
    "    print(\"Ono is too young to party 🚼\")"
   ]
  },
  {
   "cell_type": "markdown",
   "metadata": {},
   "source": [
    "You can change parameters by using\n",
    "*rosparam.set_param(parameter_name, value)* This could influence all nodes that use this parameter.\n",
    "\n",
    "You can delete parameters by using *rosparam.delete_param*\n"
   ]
  },
  {
   "cell_type": "code",
   "execution_count": null,
   "metadata": {},
   "outputs": [],
   "source": [
    "rosparam.set_param(\"/Ono/brothers_age\",\"100\")\n",
    "print(rosparam.get_param(\"/Ono/brothers_age\"))\n",
    "rosparam.delete_param(\"/Ono/brothers_age\")"
   ]
  },
  {
   "cell_type": "markdown",
   "metadata": {},
   "source": [
    "### Exercise:\n",
    "\n",
    " 1. Add three different parameters about you. Your parameter address should start with your name or nickname. One of these parametes should be a dictionary. \n",
    " 2. Read these parameters\n",
    " 3. Change one\n",
    " 4. Delete one\n",
    " \n",
    "\n"
   ]
  },
  {
   "cell_type": "code",
   "execution_count": null,
   "metadata": {},
   "outputs": [],
   "source": [
    "# your code"
   ]
  },
  {
   "cell_type": "markdown",
   "metadata": {},
   "source": [
    "## Wrapup"
   ]
  },
  {
   "cell_type": "markdown",
   "metadata": {},
   "source": [
    "What you have learned:\n",
    "\n",
    "\n",
    "1. What are ROS Topic, Service and Parameter.\n",
    "2. How to use rostopic to read a particular topic.\n",
    "3. How to publish to a ROS topic.\n",
    "4. How to read a ROS topic using a callback function.\n",
    "5. How to connect to a ROS Service.\n",
    "6. How to read and write ROS Params."
   ]
  },
  {
   "cell_type": "markdown",
   "metadata": {
    "collapsed": true
   },
   "source": [
    "## Great! \n",
    "\n",
    "Now, you can learn more with next notebook **[Using_IPython_Interactive_Widgets.ipynb](./Using_IPython_Interactive_Widgets.ipynb)**"
   ]
  }
 ],
 "metadata": {
  "kernelspec": {
   "display_name": "Python 3",
   "language": "python",
   "name": "python3"
  },
  "language_info": {
   "codemirror_mode": {
    "name": "ipython",
    "version": 3
   },
   "file_extension": ".py",
   "mimetype": "text/x-python",
   "name": "python",
   "nbconvert_exporter": "python",
   "pygments_lexer": "ipython3",
   "version": "3.5.2"
  }
 },
 "nbformat": 4,
 "nbformat_minor": 2
}
