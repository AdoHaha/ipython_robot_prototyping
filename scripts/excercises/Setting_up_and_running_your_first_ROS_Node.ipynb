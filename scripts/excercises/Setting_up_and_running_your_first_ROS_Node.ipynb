{
 "cells": [
  {
   "cell_type": "markdown",
   "metadata": {},
   "source": [
    "## Setting up and running your first ROS Node\n",
    "\n",
    "In this first exercise you will connect your own program to ROS network. It will thus become an [**ROS Node**](http://wiki.ros.org/Nodes). Basically, it means that [**roscore**](http://wiki.ros.org/roscore) servers (Master, rosout, parameter server) know where it is (its hostname, IP address) and can help us connect to other nodes.\n",
    "\n",
    "Our **Master** server is a computer with a *hostname* *igor-laptop-linux* and is on 11311 port and we need to set this up before we can connect. A ROS_MASTER_URI environment variable needs to be set to http://masters_hostname:11311\n",
    "\n",
    "We can set this variable from inside of Ipython Notebook by using [line magic](http://ipython.readthedocs.io/en/stable/interactive/magics.html): %env. Be aware, that this changes the variable value only for this particular notebook. If you want to change it globally I recommend adding a line to .bashrc file (i.e export ROS_MASTER_URI=http://masters_hostname:11311 ). \n",
    "\n"
   ]
  },
  {
   "cell_type": "code",
   "execution_count": null,
   "metadata": {
    "scrolled": false
   },
   "outputs": [],
   "source": [
    "%env ROS_MASTER_URI=http://localhost:11311"
   ]
  },
  {
   "cell_type": "markdown",
   "metadata": {},
   "source": [
    "If this is set up, and there is **roscore** server running at igor-duzy we will be able to see all nodes that are currently connected. We can use one of ROS tools called rosnode. Note that this tool can also be run from any terminal (but with the right environment variables). "
   ]
  },
  {
   "cell_type": "code",
   "execution_count": null,
   "metadata": {},
   "outputs": [],
   "source": [
    "import rosnode\n",
    "\n",
    "rosnode.get_node_names()"
   ]
  },
  {
   "cell_type": "markdown",
   "metadata": {},
   "source": [
    "You should see that there are already some nodes listed. Each is represented with its graph resource name. There are slashes at the beginning because you can actually have a whole hierarchy of nodes similar to how you have directories on your computer (something like that is common: robot1/vision_system/object_recogniser).\n",
    "So what is a ROS Node? Pretty much any program connected to a ROS Network. It can be on the same computer but it can also be connected via a network. Usually, there are tens if not hundreds of such nodes.\n",
    "(In case you see \"ERROR: Unable to communicate with master!\" you need to make sure that you have set up the correct address to ROS_MASTER_URI and there is roscore running there. Also, can you connect to this host at all? A good way to check is to use ping command i.e. ping igor-duzy. If there is a constant stream of responses, the computer is accessible. Otherwise, check the connection and firewall.)"
   ]
  },
  {
   "cell_type": "markdown",
   "metadata": {},
   "source": [
    "### Our own node\n",
    "\n",
    "OK, so let's create our own node. \n",
    "Two lines are needed. Change 'node_name' to something fancy -- it will be your node's graph resource name."
   ]
  },
  {
   "cell_type": "code",
   "execution_count": null,
   "metadata": {},
   "outputs": [],
   "source": [
    "import rospy\n",
    "\n",
    "#put your node_name here\n",
    "node_name= ...\n",
    "rospy.init_node(node_name, anonymous=True)"
   ]
  },
  {
   "cell_type": "markdown",
   "metadata": {},
   "source": [
    "And that's it :) \n"
   ]
  },
  {
   "cell_type": "markdown",
   "metadata": {},
   "source": [
    "We can check how our node was registered by using the function *rosnode.get_node_names()*\n",
    "\n",
    "### Exercise:\n",
    "*use **rosnode** to check info about your node*\n",
    "\n",
    "Use the function *rosnode.get_node_names()* to check if your node is there\n"
   ]
  },
  {
   "cell_type": "code",
   "execution_count": null,
   "metadata": {},
   "outputs": [],
   "source": [
    "#your code\n"
   ]
  },
  {
   "cell_type": "markdown",
   "metadata": {},
   "source": [
    "You should see your selected name among other names. But why there is a string of numbers after? This is because I was a bit pessimistic as to whether your fancy names would not be the same -- and as the name has to unique the anonymous parameter passed to *init_node(...)* function creates a name that would be unique. \n",
    "\n",
    "You can change this name to something unique but remember to restart the kernel (see the image below) before you run the init function again. \n",
    "**⚠ If you will do it, you need to rerun the previous commends too. **\n",
    "\n",
    "![screenshot](images/restartkernel.png)\n",
    "\n",
    "### Exercise: \n",
    "*Now use rosnode.get_node_info with your node name as an argument to see what ROS knows about your node\n",
    "When **printing** rosnode.get_node_info_description(...) remember to put the name you have got, not the one you wanted.*\n",
    "\n"
   ]
  },
  {
   "cell_type": "code",
   "execution_count": null,
   "metadata": {
    "scrolled": true
   },
   "outputs": [],
   "source": [
    "#your code\n"
   ]
  },
  {
   "cell_type": "markdown",
   "metadata": {},
   "source": [
    "*HINT:*\n",
    "```python\n",
    "print(rosnode.get_node_info_description(\"some_node_name\"))\n",
    "```"
   ]
  },
  {
   "cell_type": "markdown",
   "metadata": {},
   "source": [
    "### Let's read what Ono robot has to say to us\n",
    "\n",
    "Ok, let's use another (like rosnode) console application to see what Ono has to say to us. In later exercises, we will be reading messages directly using Python libraries but always remember that there is plenty of terminal and GUI programs to help you with prototyping and building ROS applications. ROS programmers usually have a couple of terminal windows open to see how different applications are running -- but we will keep things simple and use these console applications from Ipython.\n",
    "\n",
    "To check what Ono has prepared, lets read the list of *topics* that there are in our ROS Network. (You can also do this via terminal command *rostopic list*)"
   ]
  },
  {
   "cell_type": "code",
   "execution_count": null,
   "metadata": {},
   "outputs": [],
   "source": [
    "topics=rospy.get_published_topics()\n",
    "for topic in topics:\n",
    "    print(\"There is {} topic of {} message type\".format(topic[0],topic[1]))"
   ]
  },
  {
   "cell_type": "markdown",
   "metadata": {},
   "source": [
    "So there are many topics with different message types. There is for example this topic called /just_one. For now we just want to see the stream of messages so lets use *rostopic* terminal command to read the stream -- when you are finished use *interrupt kernel* button to stop the command running"
   ]
  },
  {
   "cell_type": "code",
   "execution_count": null,
   "metadata": {
    "scrolled": false
   },
   "outputs": [],
   "source": [
    "!rostopic echo /just_one\n"
   ]
  },
  {
   "cell_type": "markdown",
   "metadata": {},
   "source": [
    "As you can see, there is constant stream of ones on this topic, boring ...\n",
    "\n",
    "### Exercise: \n",
    "*Now try to read some secret topics from Ono.*"
   ]
  },
  {
   "cell_type": "code",
   "execution_count": null,
   "metadata": {},
   "outputs": [],
   "source": [
    "#your code\n"
   ]
  },
  {
   "cell_type": "markdown",
   "metadata": {},
   "source": [
    "### Nice job! You finished the first part of exercices :-) \n",
    "Please find **[ROS_concepts_explained_Topic_Service_Parameter.ipynb](./ROS_concepts_explained_Topic_Service_Parameter.ipynb)**."
   ]
  },
  {
   "cell_type": "markdown",
   "metadata": {},
   "source": [
    "PS. Do you know [\"Caesar Cipher\"](https://planetcalc.com/1434/)?"
   ]
  }
 ],
 "metadata": {
  "kernelspec": {
   "display_name": "Python 3",
   "language": "python",
   "name": "python3"
  },
  "language_info": {
   "codemirror_mode": {
    "name": "ipython",
    "version": 3
   },
   "file_extension": ".py",
   "mimetype": "text/x-python",
   "name": "python",
   "nbconvert_exporter": "python",
   "pygments_lexer": "ipython3",
   "version": "3.5.2"
  }
 },
 "nbformat": 4,
 "nbformat_minor": 2
}
