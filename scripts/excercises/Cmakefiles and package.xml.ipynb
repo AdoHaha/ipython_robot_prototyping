{
 "cells": [
  {
   "cell_type": "markdown",
   "metadata": {},
   "source": [
    "#CMake files\n",
    "\n",
    "#ROS uses CMake files to enable easy compiling of programs depending on other ROS packages \n",
    "as well as \"compilation\" of rosmsg, ros service and ros action files\n",
    "-- files that can be then used while creating own service servers, topic nodes and action servers/ clients\n",
    "\n",
    "Structure of Cmakefile is similar to a standard cmakefile but has additional structures"
   ]
  },
  {
   "cell_type": "code",
   "execution_count": null,
   "metadata": {},
   "outputs": [],
   "source": [
    "!cat ../../CMakeLists.txt"
   ]
  },
  {
   "cell_type": "code",
   "execution_count": null,
   "metadata": {},
   "outputs": [],
   "source": [
    "#After modyfing the CMakeList.txt file you need to compile the package,\n",
    "#the easiest way is to do catkin_make in the main catkin_workspace\n",
    "\n",
    "! cd ../../../../; pwd ; catkin_make"
   ]
  },
  {
   "cell_type": "code",
   "execution_count": null,
   "metadata": {},
   "outputs": [],
   "source": [
    "#Package files are additional files that describe the metastructure of package and explain its dependancies\n",
    "#the file can be used to automaticly import correct libraries in Python or C++ programs\n",
    "\n",
    "!cat ../../package.xml"
   ]
  },
  {
   "cell_type": "code",
   "execution_count": null,
   "metadata": {},
   "outputs": [],
   "source": []
  }
 ],
 "metadata": {
  "kernelspec": {
   "display_name": "Python 3",
   "language": "python",
   "name": "python3"
  },
  "language_info": {
   "codemirror_mode": {
    "name": "ipython",
    "version": 3
   },
   "file_extension": ".py",
   "mimetype": "text/x-python",
   "name": "python",
   "nbconvert_exporter": "python",
   "pygments_lexer": "ipython3",
   "version": "3.5.2"
  }
 },
 "nbformat": 4,
 "nbformat_minor": 4
}
