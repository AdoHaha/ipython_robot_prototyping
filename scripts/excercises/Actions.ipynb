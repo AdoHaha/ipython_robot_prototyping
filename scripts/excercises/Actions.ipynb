{
 "cells": [
  {
   "cell_type": "markdown",
   "metadata": {},
   "source": [
    "# Fun with Actions\n",
    "\n",
    "Actions are intended for a long-term relationships and are generally high-level.\n",
    "\n",
    "Structure of action is similar to service but provides more opportunities to communicate.\n",
    "\n",
    "Also, during action execution server can provide feedback as well as explicitly fail\n",
    "\n",
    "![state machine](http://wiki.ros.org/actionlib/DetailedDescription?action=AttachFile&do=get&target=server_states_detailed.png)"
   ]
  },
  {
   "cell_type": "markdown",
   "metadata": {},
   "source": [
    "## Writing action server\n",
    "\n",
    "We prepared a simple action for the Ono robot. Let's make him help with the house work"
   ]
  },
  {
   "cell_type": "code",
   "execution_count": 1,
   "metadata": {},
   "outputs": [
    {
     "name": "stdout",
     "output_type": "stream",
     "text": [
      "#goal definition\n",
      "string[] list_of_orders\n",
      "---\n",
      "#result\n",
      "string[] finished_tasks\n",
      "---\n",
      "#feedback\n",
      "string current_task\n",
      "Base path: /home/ubuntu/catkin_ws\n",
      "Source space: /home/ubuntu/catkin_ws/src\n",
      "Build space: /home/ubuntu/catkin_ws/build\n",
      "Devel space: /home/ubuntu/catkin_ws/devel\n",
      "Install space: /home/ubuntu/catkin_ws/install\n",
      "\u001b[34m####\u001b[0m\n",
      "\u001b[34m#### Running command: \u001b[1m\"make cmake_check_build_system\"\u001b[0m\u001b[34m in \u001b[1m\"/home/ubuntu/catkin_ws/build\"\u001b[0m\n",
      "\u001b[34m####\u001b[0m\n",
      "\u001b[34m####\u001b[0m\n",
      "\u001b[34m#### Running command: \u001b[1m\"make -j8 -l8\"\u001b[0m\u001b[34m in \u001b[1m\"/home/ubuntu/catkin_ws/build\"\u001b[0m\n",
      "\u001b[34m####\u001b[0m\n",
      "[  0%] Built target actionlib_msgs_generate_messages_cpp\n",
      "[  0%] Built target std_msgs_generate_messages_cpp\n",
      "[  0%] Built target sensor_msgs_generate_messages_cpp\n",
      "[  0%] Built target _ipython_robot_prototyping_generate_messages_check_deps_workingFeedback\n",
      "[  0%] Built target _ipython_robot_prototyping_generate_messages_check_deps_Question\n",
      "[  0%] Built target _ipython_robot_prototyping_generate_messages_check_deps_workingActionGoal\n",
      "[  0%] Built target _ipython_robot_prototyping_generate_messages_check_deps_workingActionResult\n",
      "[  0%] Built target _ipython_robot_prototyping_generate_messages_check_deps_workingAction\n",
      "[  0%] Built target actionlib_msgs_generate_messages_py\n",
      "[  0%] Built target sensor_msgs_generate_messages_py\n",
      "[  0%] Built target _ipython_robot_prototyping_generate_messages_check_deps_workingResult\n",
      "[  0%] Built target sensor_msgs_generate_messages_nodejs\n",
      "[  0%] Built target _ipython_robot_prototyping_generate_messages_check_deps_workingGoal\n",
      "[  0%] Built target std_msgs_generate_messages_py\n",
      "[  0%] Built target sensor_msgs_generate_messages_lisp\n",
      "[  0%] Built target std_msgs_generate_messages_nodejs\n",
      "[  0%] Built target _ipython_robot_prototyping_generate_messages_check_deps_workingActionFeedback\n",
      "[  0%] Built target std_msgs_generate_messages_lisp\n",
      "[  0%] Built target std_msgs_generate_messages_eus\n",
      "[  0%] Built target sensor_msgs_generate_messages_eus\n",
      "[  0%] Built target actionlib_msgs_generate_messages_nodejs\n",
      "[  0%] Built target actionlib_msgs_generate_messages_eus\n",
      "[  0%] Built target actionlib_msgs_generate_messages_lisp\n",
      "[ 23%] Built target ipython_robot_prototyping_generate_messages_py\n",
      "[ 41%] Built target ipython_robot_prototyping_generate_messages_lisp\n",
      "[ 74%] Built target ipython_robot_prototyping_generate_messages_cpp\n",
      "[ 79%] Built target ipython_robot_prototyping_generate_messages_nodejs\n",
      "[100%] Built target ipython_robot_prototyping_generate_messages_eus\n",
      "[100%] Built target ipython_robot_prototyping_generate_messages\n"
     ]
    }
   ],
   "source": [
    "!cat ../../action/working.action\n",
    "!cd ../../../../ && catkin_make"
   ]
  },
  {
   "cell_type": "markdown",
   "metadata": {},
   "source": [
    "The action takes list of orders (hopefully) manages to finish one after another\n",
    "and then finishes\n",
    "\n"
   ]
  },
  {
   "cell_type": "code",
   "execution_count": 1,
   "metadata": {},
   "outputs": [],
   "source": [
    "import ipython_robot_prototyping.msg\n",
    "\n",
    "import rospy\n",
    "#from __future__ import print_function\n",
    "\n",
    "# Brings in the SimpleActionClient\n",
    "import actionlib\n",
    "\n",
    "class OnoWorker(object):\n",
    "    _feedback = ipython_robot_prototyping.msg.workingFeedback()\n",
    "    _result = ipython_robot_prototyping.msg.workingResult()\n",
    "    \n",
    "    def __init__(self,name):\n",
    "        self._action_name = name\n",
    "        self._action_server = actionlib.SimpleActionServer(self._action_name, \n",
    "                                                           ipython_robot_prototyping.msg.workingAction,\n",
    "                                                           execute_cb=self.execute_cb,\n",
    "                                                           auto_start = False)\n",
    "        self._as= self._action_server\n",
    "        \n",
    "        self._action_server.start()\n",
    "        \n",
    "    def execute_cb(self, goal):\n",
    "        # helper variables\n",
    "        r = rospy.Rate(1)\n",
    "        success = True\n",
    "        rospy.loginfo(\"Received list of goals\")\n",
    "        # append the seeds for the fibonacci sequence\n",
    "        self._todo = goal.list_of_orders.copy() # we start by having list full of actions\n",
    "        \n",
    " \n",
    "                \n",
    "        \n",
    "        rospy.loginfo(\"Starting task execution\")\n",
    "        \n",
    "        for task in self._todo:\n",
    "             \n",
    "            if self._as.is_preempt_requested(): # cancel requested\n",
    "                rospy.loginfo('%s: Preempted' % self._action_name)\n",
    "                self._as.set_preempted()\n",
    "                success = False\n",
    "                return \n",
    "                #break\n",
    "            else:\n",
    "                self._feedback.current_task=task\n",
    "                self._as.publish_feedback(self._feedback)\n",
    "            r.sleep()\n",
    "        \n",
    "        \n",
    "        rospy.loginfo('%s: Succeeded' % self._action_name)\n",
    "        self._result.finished_tasks=self._todo\n",
    "        self._as.set_succeeded(self._result)\n",
    "        \n"
   ]
  },
  {
   "cell_type": "code",
   "execution_count": 2,
   "metadata": {
    "scrolled": true
   },
   "outputs": [],
   "source": [
    "rospy.init_node('ono')\n",
    "server = OnoWorker(\"ono_tasks\")\n",
    "\n"
   ]
  },
  {
   "cell_type": "code",
   "execution_count": 3,
   "metadata": {
    "scrolled": true
   },
   "outputs": [
    {
     "name": "stdout",
     "output_type": "stream",
     "text": [
      "[INFO] [1581197104.501478]: Received list of goals\n",
      "[INFO] [1581197104.501943]: Starting task execution\n",
      "current_task: \"eat\"\n",
      "current_task: \"sleep\"\n",
      "current_task: \"have fun\"\n"
     ]
    }
   ],
   "source": [
    "import rospy\n",
    "#from __future__ import print_function\n",
    "\n",
    "# Brings in the SimpleActionClient\n",
    "import actionlib\n",
    "\n",
    "# Brings in the messages used by the fibonacci action, including the\n",
    "# goal message and the result message.\n",
    "import ipython_robot_prototyping.msg\n",
    "\n",
    "def action_feedback(fb):\n",
    "    print(fb)\n",
    "\n",
    "def ono_client(list_of_tasks):\n",
    "    # Creates the SimpleActionClient, passing the type of the action\n",
    "    # (FibonacciAction) to the constructor.\n",
    "    client = actionlib.SimpleActionClient('ono_tasks', ipython_robot_prototyping.msg.workingAction)\n",
    "\n",
    "    # Waits until the action server has started up and started\n",
    "    # listening for goals.\n",
    "    client.wait_for_server()\n",
    "\n",
    "    # Creates a goal to send to the action server.\n",
    "    goal = ipython_robot_prototyping.msg.workingGoal(list_of_orders=list_of_tasks)\n",
    "\n",
    "    # Sends the goal to the action server.\n",
    "    client.send_goal(goal, feedback_cb=action_feedback)\n",
    "\n",
    "    # Waits for the server to finish performing the action.\n",
    "    #client.wait_for_result() # we can wait for the result\n",
    "\n",
    "    # Prints out the result of executing the action\n",
    "    return client\n",
    "    #return client.get_result()  # A FibonacciResult\n",
    "\n",
    "#if __name__ == '__main__':\n",
    "#    try:\n",
    "#        # Initializes a rospy node so that the SimpleActionClient can\n",
    "#        # publish and subscribe over ROS.\n",
    "#        rospy.init_node('fibonacci_client_py')\n",
    "result = ono_client([\"eat\", \"sleep\", \"have fun\"])\n",
    "#print(\"Result:\", ', '.join([str(n) for n in result.sequence]))\n",
    "#except rospy.ROSInterruptException:\n",
    "#print(\"program interrupted before completion\", file=sys.stderr)"
   ]
  },
  {
   "cell_type": "code",
   "execution_count": 6,
   "metadata": {
    "scrolled": true
   },
   "outputs": [
    {
     "name": "stdout",
     "output_type": "stream",
     "text": [
      "[INFO] [1581197120.483546]: Received list of goals\n",
      "[INFO] [1581197120.484241]: Starting task execution\n",
      "current_task: \"eat\"\n",
      "[INFO] [1581197121.484625]: ono_tasks: Preempted\n",
      "[INFO] [1581197121.585305]: Received list of goals\n",
      "[INFO] [1581197121.585545]: Starting task execution\n",
      "current_task: \"eat\"\n",
      "current_task: \"sleep\"\n",
      "current_task: \"have fun\"\n",
      "current_task: \"eat more\"\n",
      "[INFO] [1581197125.586386]: ono_tasks: Succeeded\n"
     ]
    }
   ],
   "source": [
    "result = ono_client([\"eat\", \"sleep\", \"have fun\"])\n",
    "\n",
    "\n",
    "#fini=result.get_result()\n",
    "#fini.finished_tasks"
   ]
  },
  {
   "cell_type": "code",
   "execution_count": 7,
   "metadata": {},
   "outputs": [
    {
     "name": "stdout",
     "output_type": "stream",
     "text": [
      "[INFO] [1581197144.891156]: Received list of goals\n",
      "[INFO] [1581197144.891708]: Starting task execution\n",
      "[INFO] [1581197144.892287]: ono_tasks: Preempted\n"
     ]
    }
   ],
   "source": [
    "result = ono_client([\"eat\", \"sleep\", \"have fun\", \"eat more\"])\n",
    "\n",
    "result.cancel_goal()"
   ]
  },
  {
   "cell_type": "code",
   "execution_count": 14,
   "metadata": {},
   "outputs": [
    {
     "name": "stdout",
     "output_type": "stream",
     "text": [
      "2020-02-08 21:55:49.365397\n"
     ]
    }
   ],
   "source": [
    "# Challenge 1\n",
    "\n",
    "#Modify the action server so that for each task, robot responds a sentence \"I have finished {} task\"\n",
    "#Modyfy the function so that result also shows date and time when the goal was accomplished\n",
    "#You can use function similar to the one below\n",
    "# You need to restart this notebook for changes to work. \n",
    "import time, datetime\n",
    "timestamp = datetime.datetime.fromtimestamp(time.time())\n",
    "print(timestamp)"
   ]
  },
  {
   "cell_type": "markdown",
   "metadata": {},
   "source": [
    "## More details\n",
    "\n",
    "Action file is required for actionlib\n",
    "\n",
    "The format is"
   ]
  },
  {
   "cell_type": "code",
   "execution_count": 17,
   "metadata": {},
   "outputs": [],
   "source": [
    "example_action=\"\"\"\n",
    "# goal part\n",
    "int32 x \n",
    "int32 y\n",
    "----\n",
    "#result\n",
    "string success\n",
    "----\n",
    "#feedback\n",
    "int32 x\n",
    "int32 y\n",
    "\"\"\"\n",
    "\n",
    "with open(\"../../action/turtlenavigation.action\", \"w\") as turtlenavigation:\n",
    "    turtlenavigation.write(example_action)"
   ]
  },
  {
   "cell_type": "code",
   "execution_count": 18,
   "metadata": {},
   "outputs": [
    {
     "name": "stdout",
     "output_type": "stream",
     "text": [
      "Base path: /home/ubuntu/catkin_ws\n",
      "Source space: /home/ubuntu/catkin_ws/src\n",
      "Build space: /home/ubuntu/catkin_ws/build\n",
      "Devel space: /home/ubuntu/catkin_ws/devel\n",
      "Install space: /home/ubuntu/catkin_ws/install\n",
      "\u001b[34m####\u001b[0m\n",
      "\u001b[34m#### Running command: \u001b[1m\"make cmake_check_build_system\"\u001b[0m\u001b[34m in \u001b[1m\"/home/ubuntu/catkin_ws/build\"\u001b[0m\n",
      "\u001b[34m####\u001b[0m\n",
      "-- Using CATKIN_DEVEL_PREFIX: /home/ubuntu/catkin_ws/devel\n",
      "\u001b[0m-- Using CMAKE_PREFIX_PATH: /home/ubuntu/catkin_ws/devel;/opt/ros/kinetic\n",
      "\u001b[0m-- This workspace overlays: /home/ubuntu/catkin_ws/devel;/opt/ros/kinetic\n",
      "\u001b[0m-- Found PythonInterp: /usr/bin/python2 (found suitable version \"2.7.12\", minimum required is \"2\") \n",
      "\u001b[0m-- Using PYTHON_EXECUTABLE: /usr/bin/python2\n",
      "\u001b[0m-- Using Debian Python package layout\n",
      "\u001b[0m-- Using empy: /usr/bin/empy\n",
      "\u001b[0m-- Using CATKIN_ENABLE_TESTING: ON\n",
      "\u001b[0m-- Call enable_testing()\n",
      "\u001b[0m-- Using CATKIN_TEST_RESULTS_DIR: /home/ubuntu/catkin_ws/build/test_results\n",
      "\u001b[0m-- Found gtest sources under '/usr/src/gmock': gtests will be built\n",
      "\u001b[0m-- Found gmock sources under '/usr/src/gmock': gmock will be built\n",
      "\u001b[0m-- Found PythonInterp: /usr/bin/python2 (found version \"2.7.12\") \n",
      "\u001b[0m-- Using Python nosetests: /usr/bin/nosetests-2.7\n",
      "\u001b[0m-- catkin 0.7.20\n",
      "\u001b[0m-- BUILD_SHARED_LIBS is on\n",
      "\u001b[0m-- BUILD_SHARED_LIBS is on\n",
      "\u001b[0m-- \u001b[35m~~~~~~~~~~~~~~~~~~~~~~~~~~~~~~~~~~~~~~~~~~~~~~~~~\u001b[0m\n",
      "\u001b[0m-- \u001b[35m~~ \u001b[0m traversing 1 packages in topological order:\n",
      "\u001b[0m-- \u001b[35m~~ \u001b[0m - \u001b[1m\u001b[34mipython_robot_prototyping\n",
      "\u001b[0m-- \u001b[35m~~~~~~~~~~~~~~~~~~~~~~~~~~~~~~~~~~~~~~~~~~~~~~~~~\u001b[0m\n",
      "\u001b[0m-- \u001b[1m\u001b[32m+++\u001b[0m processing catkin package: '\u001b[1m\u001b[34mipython_robot_prototyping\u001b[0m\u001b[0m'\n",
      "\u001b[0m-- \u001b[1m\u001b[34m==>\u001b[0m add_subdirectory(ipython_robot_prototyping)\n",
      "\u001b[0m-- Using these message generators: gencpp;geneus;genlisp;gennodejs;genpy\n",
      "\u001b[0m-- Generating .msg files for action ipython_robot_prototyping/working /home/ubuntu/catkin_ws/src/ipython_robot_prototyping/action/working.action\n",
      "\u001b[0m-- Generating .msg files for action ipython_robot_prototyping/turtlenavigation /home/ubuntu/catkin_ws/src/ipython_robot_prototyping/action/turtlenavigation.action\n",
      "\u001b[0mGenerating for action turtlenavigation\n",
      "\u001b[0m-- ipython_robot_prototyping: 14 messages, 1 services\n",
      "\u001b[0m-- Configuring done\n",
      "\u001b[0m-- Generating done\n",
      "\u001b[0m-- Build files have been written to: /home/ubuntu/catkin_ws/build\n",
      "\u001b[0m\u001b[34m####\u001b[0m\n",
      "\u001b[34m#### Running command: \u001b[1m\"make -j8 -l8\"\u001b[0m\u001b[34m in \u001b[1m\"/home/ubuntu/catkin_ws/build\"\u001b[0m\n",
      "\u001b[34m####\u001b[0m\n",
      "\u001b[35m\u001b[1mScanning dependencies of target _ipython_robot_prototyping_generate_messages_check_deps_turtlenavigationAction\u001b[0m\n",
      "\u001b[35m\u001b[1mScanning dependencies of target _ipython_robot_prototyping_generate_messages_check_deps_turtlenavigationGoal\u001b[0m\n",
      "[  0%] Built target sensor_msgs_generate_messages_cpp\n",
      "\u001b[35m\u001b[1mScanning dependencies of target _ipython_robot_prototyping_generate_messages_check_deps_turtlenavigationFeedback\u001b[0m\n",
      "[  0%] Built target _ipython_robot_prototyping_generate_messages_check_deps_turtlenavigationAction\n",
      "[  0%] Built target _ipython_robot_prototyping_generate_messages_check_deps_workingActionResult\n",
      "[  0%] Built target _ipython_robot_prototyping_generate_messages_check_deps_turtlenavigationGoal\n",
      "[  0%] Built target _ipython_robot_prototyping_generate_messages_check_deps_workingGoal\n",
      "\u001b[35m\u001b[1mScanning dependencies of target _ipython_robot_prototyping_generate_messages_check_deps_turtlenavigationResult\u001b[0m\n",
      "[  0%] Built target _ipython_robot_prototyping_generate_messages_check_deps_workingActionGoal\n",
      "[  0%] Built target _ipython_robot_prototyping_generate_messages_check_deps_turtlenavigationFeedback\n",
      "[  0%] Built target std_msgs_generate_messages_cpp\n",
      "\u001b[35m\u001b[1mScanning dependencies of target _ipython_robot_prototyping_generate_messages_check_deps_turtlenavigationActionGoal\u001b[0m\n",
      "[  0%] Built target _ipython_robot_prototyping_generate_messages_check_deps_workingActionFeedback\n",
      "[  0%] Built target actionlib_msgs_generate_messages_cpp\n",
      "[  0%] Built target _ipython_robot_prototyping_generate_messages_check_deps_Question\n",
      "[  0%] Built target _ipython_robot_prototyping_generate_messages_check_deps_workingFeedback\n",
      "[  0%] Built target _ipython_robot_prototyping_generate_messages_check_deps_workingAction\n",
      "\u001b[35m\u001b[1mScanning dependencies of target _ipython_robot_prototyping_generate_messages_check_deps_turtlenavigationActionResult\u001b[0m\n",
      "\u001b[35m\u001b[1mScanning dependencies of target _ipython_robot_prototyping_generate_messages_check_deps_turtlenavigationActionFeedback\u001b[0m\n",
      "[  0%] Built target _ipython_robot_prototyping_generate_messages_check_deps_turtlenavigationResult\n",
      "[  0%] Built target std_msgs_generate_messages_py\n",
      "[  0%] Built target sensor_msgs_generate_messages_nodejs\n",
      "[  0%] Built target actionlib_msgs_generate_messages_py\n",
      "[  0%] Built target _ipython_robot_prototyping_generate_messages_check_deps_turtlenavigationActionResult\n",
      "[  0%] Built target _ipython_robot_prototyping_generate_messages_check_deps_turtlenavigationActionGoal\n",
      "[  0%] Built target _ipython_robot_prototyping_generate_messages_check_deps_workingResult\n",
      "[  0%] Built target _ipython_robot_prototyping_generate_messages_check_deps_turtlenavigationActionFeedback\n",
      "[  0%] Built target sensor_msgs_generate_messages_py\n",
      "[  0%] Built target actionlib_msgs_generate_messages_nodejs\n",
      "[  0%] Built target sensor_msgs_generate_messages_lisp\n",
      "[  0%] Built target actionlib_msgs_generate_messages_lisp\n",
      "[  0%] Built target std_msgs_generate_messages_nodejs\n",
      "[  0%] Built target std_msgs_generate_messages_eus\n",
      "[  0%] Built target std_msgs_generate_messages_lisp\n",
      "[  1%] \u001b[34m\u001b[1mGenerating C++ code from ipython_robot_prototyping/turtlenavigationActionFeedback.msg\u001b[0m\n",
      "[  2%] \u001b[34m\u001b[1mGenerating C++ code from ipython_robot_prototyping/turtlenavigationResult.msg\u001b[0m\n",
      "[  2%] Built target actionlib_msgs_generate_messages_eus\n",
      "[  3%] \u001b[34m\u001b[1mGenerating C++ code from ipython_robot_prototyping/turtlenavigationFeedback.msg\u001b[0m\n",
      "[  5%] Built target sensor_msgs_generate_messages_eus\n",
      "[  5%] \u001b[34m\u001b[1mGenerating C++ code from ipython_robot_prototyping/turtlenavigationActionResult.msg\u001b[0m\n",
      "[  6%] \u001b[34m\u001b[1mGenerating Python from MSG ipython_robot_prototyping/turtlenavigationResult\u001b[0m\n",
      "[  7%] \u001b[34m\u001b[1mGenerating Javascript code from ipython_robot_prototyping/turtlenavigationResult.msg\u001b[0m\n",
      "[  8%] \u001b[34m\u001b[1mGenerating Lisp code from ipython_robot_prototyping/turtlenavigationResult.msg\u001b[0m\n",
      "[ 10%] \u001b[34m\u001b[1mGenerating EusLisp code from ipython_robot_prototyping/turtlenavigationResult.msg\u001b[0m\n",
      "[ 11%] \u001b[34m\u001b[1mGenerating Lisp code from ipython_robot_prototyping/turtlenavigationActionFeedback.msg\u001b[0m\n",
      "[ 12%] \u001b[34m\u001b[1mGenerating Javascript code from ipython_robot_prototyping/turtlenavigationActionFeedback.msg\u001b[0m\n",
      "[ 14%] \u001b[34m\u001b[1mGenerating Javascript code from ipython_robot_prototyping/turtlenavigationFeedback.msg\u001b[0m\n",
      "[ 15%] \u001b[34m\u001b[1mGenerating Python from MSG ipython_robot_prototyping/turtlenavigationActionFeedback\u001b[0m\n",
      "[ 16%] \u001b[34m\u001b[1mGenerating Lisp code from ipython_robot_prototyping/turtlenavigationFeedback.msg\u001b[0m\n",
      "[ 17%] \u001b[34m\u001b[1mGenerating C++ code from ipython_robot_prototyping/turtlenavigationAction.msg\u001b[0m\n",
      "[ 19%] \u001b[34m\u001b[1mGenerating EusLisp code from ipython_robot_prototyping/turtlenavigationActionFeedback.msg\u001b[0m\n",
      "[ 20%] \u001b[34m\u001b[1mGenerating C++ code from ipython_robot_prototyping/turtlenavigationActionGoal.msg\u001b[0m\n",
      "[ 21%] \u001b[34m\u001b[1mGenerating Lisp code from ipython_robot_prototyping/turtlenavigationActionResult.msg\u001b[0m\n",
      "[ 23%] \u001b[34m\u001b[1mGenerating C++ code from ipython_robot_prototyping/turtlenavigationGoal.msg\u001b[0m\n",
      "[ 25%] \u001b[34m\u001b[1mGenerating Javascript code from ipython_robot_prototyping/turtlenavigationActionResult.msg\u001b[0m\n",
      "[ 25%] \u001b[34m\u001b[1mGenerating Lisp code from ipython_robot_prototyping/turtlenavigationAction.msg\u001b[0m\n",
      "[ 26%] \u001b[34m\u001b[1mGenerating EusLisp code from ipython_robot_prototyping/turtlenavigationFeedback.msg\u001b[0m\n",
      "[ 28%] \u001b[34m\u001b[1mGenerating Lisp code from ipython_robot_prototyping/turtlenavigationActionGoal.msg\u001b[0m\n",
      "[ 29%] \u001b[34m\u001b[1mGenerating Python from MSG ipython_robot_prototyping/turtlenavigationFeedback\u001b[0m\n",
      "[ 30%] \u001b[34m\u001b[1mGenerating Python from MSG ipython_robot_prototyping/turtlenavigationActionResult\u001b[0m\n",
      "[ 32%] \u001b[34m\u001b[1mGenerating Javascript code from ipython_robot_prototyping/turtlenavigationAction.msg\u001b[0m\n",
      "[ 33%] \u001b[34m\u001b[1mGenerating Javascript code from ipython_robot_prototyping/turtlenavigationActionGoal.msg\u001b[0m\n",
      "[ 34%] \u001b[34m\u001b[1mGenerating Javascript code from ipython_robot_prototyping/turtlenavigationGoal.msg\u001b[0m\n",
      "[ 35%] \u001b[34m\u001b[1mGenerating Lisp code from ipython_robot_prototyping/turtlenavigationGoal.msg\u001b[0m\n",
      "[ 37%] \u001b[34m\u001b[1mGenerating EusLisp code from ipython_robot_prototyping/turtlenavigationActionResult.msg\u001b[0m\n"
     ]
    },
    {
     "name": "stdout",
     "output_type": "stream",
     "text": [
      "[ 38%] \u001b[34m\u001b[1mGenerating EusLisp code from ipython_robot_prototyping/turtlenavigationAction.msg\u001b[0m\n",
      "[ 48%] Built target ipython_robot_prototyping_generate_messages_cpp\n",
      "[ 50%] \u001b[34m\u001b[1mGenerating EusLisp code from ipython_robot_prototyping/turtlenavigationActionGoal.msg\u001b[0m\n",
      "[ 60%] Built target ipython_robot_prototyping_generate_messages_nodejs\n",
      "[ 61%] \u001b[34m\u001b[1mGenerating Python from MSG ipython_robot_prototyping/turtlenavigationActionGoal\u001b[0m\n",
      "[ 62%] \u001b[34m\u001b[1mGenerating EusLisp code from ipython_robot_prototyping/turtlenavigationGoal.msg\u001b[0m\n",
      "[ 73%] Built target ipython_robot_prototyping_generate_messages_lisp\n",
      "[ 74%] \u001b[34m\u001b[1mGenerating Python from MSG ipython_robot_prototyping/turtlenavigationAction\u001b[0m\n",
      "[ 75%] \u001b[34m\u001b[1mGenerating Python from MSG ipython_robot_prototyping/turtlenavigationGoal\u001b[0m\n",
      "[ 87%] Built target ipython_robot_prototyping_generate_messages_eus\n",
      "[ 88%] \u001b[34m\u001b[1mGenerating Python msg __init__.py for ipython_robot_prototyping\u001b[0m\n",
      "[ 89%] \u001b[34m\u001b[1mGenerating Python srv __init__.py for ipython_robot_prototyping\u001b[0m\n",
      "[100%] Built target ipython_robot_prototyping_generate_messages_py\n",
      "[100%] Built target ipython_robot_prototyping_generate_messages\n"
     ]
    }
   ],
   "source": [
    "!cd ../../../../; catkin_make"
   ]
  },
  {
   "cell_type": "code",
   "execution_count": null,
   "metadata": {},
   "outputs": [],
   "source": [
    "#Cmake Files need to be changed to include the action (the turtlenavigation)\n",
    "\n",
    "add_action_files(\n",
    "    FILES\n",
    "   working.action\n",
    "   turtlenavigation.action\n",
    "#   Action2.action\n",
    " )\n",
    "\n",
    "#After compiling multiple Python, (as well as Javascript, Java, Lisp, C++) modules are available such \n",
    "#as turtlenavigationAction turtlenavigationResult etc\n"
   ]
  },
  {
   "cell_type": "code",
   "execution_count": null,
   "metadata": {},
   "outputs": [],
   "source": [
    "# Challenge 2\n",
    "\n",
    "class GoToPointTurtle(object):\n",
    "    _feedback = ipython_robot_prototyping.msg.turtlenavigationFeedback()\n",
    "    _result = ipython_robot_prototyping.msg.turtlenavigationResult()\n",
    "    \n",
    "    def __init__(self,name):\n",
    "        self._action_name = name\n",
    "        self._action_server = actionlib.SimpleActionServer(self._action_name, \n",
    "                                                           ipython_robot_prototyping.msg.turtlenavigationAction,\n",
    "                                                           execute_cb=self.execute_cb,\n",
    "                                                           auto_start = False)\n",
    "        self._as= self._action_server\n",
    "        \n",
    "        self._action_server.start()\n",
    "        \n",
    "    def execute_cb(self, goal):\n",
    "      #PUT HERE a simple controller that moves robot towards goal \n",
    "      #sends feedback during the movement and \"success\" when the goal is reached\n",
    "        \n"
   ]
  }
 ],
 "metadata": {
  "kernelspec": {
   "display_name": "Python 3",
   "language": "python",
   "name": "python3"
  },
  "language_info": {
   "codemirror_mode": {
    "name": "ipython",
    "version": 3
   },
   "file_extension": ".py",
   "mimetype": "text/x-python",
   "name": "python",
   "nbconvert_exporter": "python",
   "pygments_lexer": "ipython3",
   "version": "3.5.2"
  }
 },
 "nbformat": 4,
 "nbformat_minor": 4
}
