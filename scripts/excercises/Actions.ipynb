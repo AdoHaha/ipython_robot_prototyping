{
 "cells": [
  {
   "cell_type": "markdown",
   "metadata": {},
   "source": [
    "# Fun with Actions\n",
    "\n",
    "Actions are intended for a long-term relationships and are generally high-level.\n",
    "\n",
    "Structure of action is similar to service but provides more opportunities to communicate.\n",
    "\n",
    "Also, during action execution server can provide feedback as well as explicitly fail\n",
    "\n",
    "![state machine](http://wiki.ros.org/actionlib/DetailedDescription?action=AttachFile&do=get&target=server_states_detailed.png)"
   ]
  },
  {
   "cell_type": "markdown",
   "metadata": {},
   "source": [
    "## Writing action server\n",
    "\n",
    "We prepared a simple action for the Ono robot. Let's make him help with the house work"
   ]
  },
  {
   "cell_type": "code",
   "execution_count": null,
   "metadata": {},
   "outputs": [],
   "source": [
    "!cat ../../action/working.action\n",
    "!cd ../../../../ && catkin_make"
   ]
  },
  {
   "cell_type": "markdown",
   "metadata": {},
   "source": [
    "The action takes list of orders (hopefully) manages to finish one after another\n",
    "and then finishes\n",
    "\n"
   ]
  },
  {
   "cell_type": "code",
   "execution_count": null,
   "metadata": {},
   "outputs": [],
   "source": [
    "import ipython_robot_prototyping.msg\n",
    "\n",
    "import rospy\n",
    "#from __future__ import print_function\n",
    "\n",
    "# Brings in the SimpleActionClient\n",
    "import actionlib\n",
    "\n",
    "class OnoWorker(object):\n",
    "    _feedback = ipython_robot_prototyping.msg.workingFeedback()\n",
    "    _result = ipython_robot_prototyping.msg.workingResult()\n",
    "    \n",
    "    def __init__(self,name):\n",
    "        self._action_name = name\n",
    "        self._action_server = actionlib.SimpleActionServer(self._action_name, \n",
    "                                                           ipython_robot_prototyping.msg.workingAction,\n",
    "                                                           execute_cb=self.execute_cb,\n",
    "                                                           auto_start = False)\n",
    "        self._as= self._action_server\n",
    "        \n",
    "        self._action_server.start()\n",
    "        \n",
    "    def execute_cb(self, goal):\n",
    "        # helper variables\n",
    "        r = rospy.Rate(1)\n",
    "        success = True\n",
    "        rospy.loginfo(\"Received list of goals\")\n",
    "        # append the seeds for the fibonacci sequence\n",
    "        self._todo = goal.list_of_orders.copy() # we start by having list full of actions\n",
    "        \n",
    " \n",
    "                \n",
    "        \n",
    "        rospy.loginfo(\"Starting task execution\")\n",
    "        \n",
    "        for task in self._todo:\n",
    "             \n",
    "            if self._as.is_preempt_requested(): # cancel requested\n",
    "                rospy.loginfo('%s: Preempted' % self._action_name)\n",
    "                self._as.set_preempted()\n",
    "                success = False\n",
    "                return \n",
    "                #break\n",
    "            else:\n",
    "                self._feedback.current_task=task\n",
    "                self._as.publish_feedback(self._feedback)\n",
    "            r.sleep()\n",
    "        \n",
    "        \n",
    "        rospy.loginfo('%s: Succeeded' % self._action_name)\n",
    "        self._result.finished_tasks=self._todo\n",
    "        self._as.set_succeeded(self._result)\n",
    "        \n"
   ]
  },
  {
   "cell_type": "code",
   "execution_count": null,
   "metadata": {
    "scrolled": true
   },
   "outputs": [],
   "source": [
    "rospy.init_node('ono')\n",
    "server = OnoWorker(\"ono_tasks\")\n",
    "\n"
   ]
  },
  {
   "cell_type": "code",
   "execution_count": null,
   "metadata": {
    "scrolled": true
   },
   "outputs": [],
   "source": [
    "import rospy\n",
    "#from __future__ import print_function\n",
    "\n",
    "# Brings in the SimpleActionClient\n",
    "import actionlib\n",
    "\n",
    "# Brings in the messages used by the fibonacci action, including the\n",
    "# goal message and the result message.\n",
    "import ipython_robot_prototyping.msg\n",
    "\n",
    "def action_feedback(fb):\n",
    "    print(fb)\n",
    "\n",
    "def ono_client(list_of_tasks):\n",
    "    # Creates the SimpleActionClient, passing the type of the action\n",
    "    # (FibonacciAction) to the constructor.\n",
    "    client = actionlib.SimpleActionClient('ono_tasks', ipython_robot_prototyping.msg.workingAction)\n",
    "\n",
    "    # Waits until the action server has started up and started\n",
    "    # listening for goals.\n",
    "    client.wait_for_server()\n",
    "\n",
    "    # Creates a goal to send to the action server.\n",
    "    goal = ipython_robot_prototyping.msg.workingGoal(list_of_orders=list_of_tasks)\n",
    "\n",
    "    # Sends the goal to the action server.\n",
    "    client.send_goal(goal, feedback_cb=action_feedback)\n",
    "\n",
    "    # Waits for the server to finish performing the action.\n",
    "    #client.wait_for_result() # we can wait for the result\n",
    "\n",
    "    # Prints out the result of executing the action\n",
    "    return client\n",
    "    #return client.get_result()  # A FibonacciResult\n",
    "\n",
    "#if __name__ == '__main__':\n",
    "#    try:\n",
    "#        # Initializes a rospy node so that the SimpleActionClient can\n",
    "#        # publish and subscribe over ROS.\n",
    "#        rospy.init_node('fibonacci_client_py')\n",
    "result = ono_client([\"eat\", \"sleep\", \"have fun\"])\n",
    "#print(\"Result:\", ', '.join([str(n) for n in result.sequence]))\n",
    "#except rospy.ROSInterruptException:\n",
    "#print(\"program interrupted before completion\", file=sys.stderr)"
   ]
  },
  {
   "cell_type": "code",
   "execution_count": null,
   "metadata": {
    "scrolled": true
   },
   "outputs": [],
   "source": [
    "result = ono_client([\"eat\", \"sleep\", \"have fun\"])\n",
    "\n",
    "\n",
    "#fini=result.get_result()\n",
    "#fini.finished_tasks"
   ]
  },
  {
   "cell_type": "code",
   "execution_count": null,
   "metadata": {},
   "outputs": [],
   "source": [
    "result = ono_client([\"eat\", \"sleep\", \"have fun\", \"eat more\"])\n",
    "\n",
    "result.cancel_goal()"
   ]
  },
  {
   "cell_type": "code",
   "execution_count": null,
   "metadata": {},
   "outputs": [],
   "source": [
    "# Challenge 1\n",
    "\n",
    "#Modify the action server so that for each task, robot responds a sentence \"I have finished {} task\"\n",
    "#Modyfy the function so that result also shows date and time when the goal was accomplished\n",
    "#You can use function similar to the one below\n",
    "# You need to restart this notebook for changes to work. \n",
    "import time, datetime\n",
    "timestamp = datetime.datetime.fromtimestamp(time.time())\n",
    "print(timestamp)"
   ]
  },
  {
   "cell_type": "markdown",
   "metadata": {},
   "source": [
    "## More details\n",
    "\n",
    "Action file is required for actionlib\n",
    "\n",
    "The format is"
   ]
  },
  {
   "cell_type": "code",
   "execution_count": null,
   "metadata": {},
   "outputs": [],
   "source": [
    "example_action=\"\"\"\n",
    "# goal part\n",
    "int32 x \n",
    "int32 y\n",
    "----\n",
    "#result\n",
    "string success\n",
    "----\n",
    "#feedback\n",
    "int32 x\n",
    "int32 y\n",
    "\"\"\"\n",
    "\n",
    "with open(\"../../action/turtlenavigation.action\", \"w\") as turtlenavigation:\n",
    "    turtlenavigation.write(example_action)"
   ]
  },
  {
   "cell_type": "code",
   "execution_count": null,
   "metadata": {},
   "outputs": [],
   "source": [
    "!cd ../../../../; catkin_make"
   ]
  },
  {
   "cell_type": "code",
   "execution_count": null,
   "metadata": {},
   "outputs": [],
   "source": [
    "#Cmake Files need to be changed to include the action (the turtlenavigation)\n",
    "\n",
    "add_action_files(\n",
    "    FILES\n",
    "   working.action\n",
    "   turtlenavigation.action\n",
    "#   Action2.action\n",
    " )\n",
    "\n",
    "#After compiling multiple Python, (as well as Javascript, Java, Lisp, C++) modules are available such \n",
    "#as turtlenavigationAction turtlenavigationResult etc\n"
   ]
  },
  {
   "cell_type": "code",
   "execution_count": null,
   "metadata": {},
   "outputs": [],
   "source": [
    "# Challenge 2\n",
    "\n",
    "class GoToPointTurtle(object):\n",
    "    _feedback = ipython_robot_prototyping.msg.turtlenavigationFeedback()\n",
    "    _result = ipython_robot_prototyping.msg.turtlenavigationResult()\n",
    "    \n",
    "    def __init__(self,name):\n",
    "        self._action_name = name\n",
    "        self._action_server = actionlib.SimpleActionServer(self._action_name, \n",
    "                                                           ipython_robot_prototyping.msg.turtlenavigationAction,\n",
    "                                                           execute_cb=self.execute_cb,\n",
    "                                                           auto_start = False)\n",
    "        self._as= self._action_server\n",
    "        \n",
    "        self._action_server.start()\n",
    "        \n",
    "    def execute_cb(self, goal):\n",
    "      #PUT HERE a simple controller that moves robot towards goal \n",
    "      #sends feedback during the movement and \"success\" when the goal is reached\n",
    "        \n"
   ]
  }
 ],
 "metadata": {
  "kernelspec": {
   "display_name": "Python 3",
   "language": "python",
   "name": "python3"
  },
  "language_info": {
   "codemirror_mode": {
    "name": "ipython",
    "version": 3
   },
   "file_extension": ".py",
   "mimetype": "text/x-python",
   "name": "python",
   "nbconvert_exporter": "python",
   "pygments_lexer": "ipython3",
   "version": "3.5.2"
  }
 },
 "nbformat": 4,
 "nbformat_minor": 4
}
