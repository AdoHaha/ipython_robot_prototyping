{
 "cells": [
  {
   "cell_type": "code",
   "execution_count": null,
   "metadata": {},
   "outputs": [],
   "source": [
    "import numpy as np"
   ]
  },
  {
   "cell_type": "code",
   "execution_count": null,
   "metadata": {},
   "outputs": [],
   "source": [
    "a_list= [1,2,3,4,5, [1,2,3], \"temat\"] # nie idealna lista\n",
    "k_krotka = (1,2,3,4,5, [1,2,3], \"temat\")\n",
    "b_list = [1,2,3,4,5]\n",
    "n_array = np.array(b_list) # wektor numpy\n"
   ]
  },
  {
   "cell_type": "code",
   "execution_count": null,
   "metadata": {},
   "outputs": [],
   "source": [
    "a_list+b_list\n",
    "n_array+n_array"
   ]
  },
  {
   "cell_type": "code",
   "execution_count": null,
   "metadata": {},
   "outputs": [],
   "source": [
    "a_list[3]"
   ]
  },
  {
   "cell_type": "code",
   "execution_count": null,
   "metadata": {},
   "outputs": [],
   "source": [
    "a_list.append(100)\n",
    "print(a_list)"
   ]
  },
  {
   "cell_type": "code",
   "execution_count": null,
   "metadata": {},
   "outputs": [],
   "source": [
    "k_krotka[4]"
   ]
  },
  {
   "cell_type": "code",
   "execution_count": null,
   "metadata": {},
   "outputs": [],
   "source": [
    "k_krotka.append(100)"
   ]
  },
  {
   "cell_type": "code",
   "execution_count": null,
   "metadata": {},
   "outputs": [],
   "source": [
    "np.array(b_list)+np.array(b_list)"
   ]
  },
  {
   "cell_type": "code",
   "execution_count": null,
   "metadata": {},
   "outputs": [],
   "source": [
    "n_array = np.array(a_list) # wektor numpy"
   ]
  },
  {
   "cell_type": "code",
   "execution_count": null,
   "metadata": {},
   "outputs": [],
   "source": [
    "n_array"
   ]
  },
  {
   "cell_type": "code",
   "execution_count": null,
   "metadata": {},
   "outputs": [],
   "source": [
    "#### Nowosci\n",
    "\n",
    "studenci_slownik = {123: 123,\"Igor\":3, \"Frankek\":5, \"Zosia\":22,\"Julia\":[2,21], (1,2):\"Krotka\"}"
   ]
  },
  {
   "cell_type": "code",
   "execution_count": null,
   "metadata": {},
   "outputs": [],
   "source": [
    "print(studenci_slownik)"
   ]
  },
  {
   "cell_type": "code",
   "execution_count": null,
   "metadata": {},
   "outputs": [],
   "source": [
    "studenci_slownik[\"Zosia\"]"
   ]
  },
  {
   "cell_type": "code",
   "execution_count": null,
   "metadata": {},
   "outputs": [],
   "source": [
    "for elementy in studenci_slownik:\n",
    "    print(elementy)\n",
    "\n",
    "print(\"*\"*20)\n",
    "for elementy in studenci_slownik.keys():\n",
    "    print(elementy)"
   ]
  },
  {
   "cell_type": "code",
   "execution_count": null,
   "metadata": {},
   "outputs": [],
   "source": [
    "for elementy in studenci_slownik.items():\n",
    "    print(elementy)"
   ]
  },
  {
   "cell_type": "code",
   "execution_count": null,
   "metadata": {},
   "outputs": [],
   "source": [
    "for elementy in studenci_slownik.values():\n",
    "    print(elementy)"
   ]
  },
  {
   "cell_type": "code",
   "execution_count": null,
   "metadata": {},
   "outputs": [],
   "source": [
    "studenci_slownik[\"Cuthulu\"]= -1000000"
   ]
  },
  {
   "cell_type": "code",
   "execution_count": null,
   "metadata": {},
   "outputs": [],
   "source": [
    "studenci_slownik"
   ]
  },
  {
   "cell_type": "code",
   "execution_count": null,
   "metadata": {},
   "outputs": [],
   "source": [
    "automatyczna_lista=[liczba**2 for liczba in range(100) if liczba%4==0]\n",
    "print(automatyczna_lista)"
   ]
  },
  {
   "cell_type": "code",
   "execution_count": null,
   "metadata": {},
   "outputs": [],
   "source": [
    "studenci = studenci_slownik.keys()\n",
    "automatyczny_slownik=dict(para for para in enumerate(studenci))\n",
    "print(automatyczny_slownik)"
   ]
  },
  {
   "cell_type": "code",
   "execution_count": null,
   "metadata": {},
   "outputs": [],
   "source": [
    "##### zbiory\n",
    "\n",
    "a={1,2,3,\"Franek\"}\n",
    "b={2,3,4,\"Franek\"}\n"
   ]
  },
  {
   "cell_type": "code",
   "execution_count": null,
   "metadata": {},
   "outputs": [],
   "source": [
    "a|b #suma zbiorów, sum of sets"
   ]
  },
  {
   "cell_type": "code",
   "execution_count": null,
   "metadata": {},
   "outputs": [],
   "source": [
    "a.add(\"Franek\")\n",
    "print(a)"
   ]
  },
  {
   "cell_type": "code",
   "execution_count": null,
   "metadata": {},
   "outputs": [],
   "source": [
    "1 in a\n",
    "\"Igor\" in studenci_slownik"
   ]
  },
  {
   "cell_type": "markdown",
   "metadata": {},
   "source": [
    "### Własne typy"
   ]
  },
  {
   "cell_type": "code",
   "execution_count": null,
   "metadata": {},
   "outputs": [],
   "source": [
    "zajecia = [[\"wf\"],\n",
    "           [\"informatyka\", \"nauka czytania\"],\n",
    "           [\"relax\", \"jedzenie\"],\n",
    "           [\"mispy\",\"mispy w domu\"],\n",
    "           [\"piateczek\", \"praca domowa z mispow\", \"Ilovemispy\", \"mispy w czasie snu\"]\n",
    "          ]\n",
    "\n",
    "dnityg= [\"Pon\",\"Wto\",\"Sro\",\"Czwar\",\"Pio\"]\n",
    "\n",
    "def dodaj_dwie_liczby(liczba1,liczba2):\n",
    "    return liczba1+liczba2"
   ]
  },
  {
   "cell_type": "code",
   "execution_count": null,
   "metadata": {},
   "outputs": [],
   "source": [
    "class DzienZajec():\n",
    "    \"\"\"obiekt trzymający dany dzień zajęć i przypisane mu metody\"\"\"\n",
    "    \n",
    "    \n",
    "    def __init__(self, lista_na_dany_dzien, nazwa_dnia): #definicja\n",
    "        self.lista_zajec= lista_na_dany_dzien\n",
    "        self.dzien = nazwa_dnia\n",
    "        \n",
    "\n",
    "    \n",
    "    def ile_mispow(self):\n",
    "        ile_m = sum([1 for zajecie in self.lista_zajec if \"misp\" in zajecie.lower()])\n",
    "        return ile_m\n",
    "\n",
    "    @property #zamienia na wlasciwosc   \n",
    "    def ile_zajec(self):\n",
    "        return len(self.lista_zajec)\n",
    "    \n",
    "    def __repr__(self):\n",
    "        zajecia_do_stringa = \", \".join(self.lista_zajec)\n",
    "        return \"W dzien {} mam zajecia: {}\".format(self.dzien, zajecia_do_stringa)\n",
    "    "
   ]
  },
  {
   "cell_type": "code",
   "execution_count": null,
   "metadata": {},
   "outputs": [],
   "source": [
    "pio_zajecia = DzienZajec([\"piateczek\", \"praca domowa z mispow\", \"Ilovemispy\", \"mispy w czasie snu\"],\n",
    "                        \"piatek\")"
   ]
  },
  {
   "cell_type": "code",
   "execution_count": null,
   "metadata": {},
   "outputs": [],
   "source": [
    "pio_zajecia.ile_zajec"
   ]
  },
  {
   "cell_type": "code",
   "execution_count": null,
   "metadata": {},
   "outputs": [],
   "source": [
    "print(pio_zajecia)"
   ]
  },
  {
   "cell_type": "code",
   "execution_count": null,
   "metadata": {},
   "outputs": [],
   "source": [
    "pio_zajecia.lista_zajec"
   ]
  },
  {
   "cell_type": "code",
   "execution_count": null,
   "metadata": {},
   "outputs": [],
   "source": [
    "pio_zajecia.lista_zajec.append(\"MISP\")\n",
    "print(pio_zajecia.lista_zajec)"
   ]
  },
  {
   "cell_type": "code",
   "execution_count": null,
   "metadata": {},
   "outputs": [],
   "source": [
    "pio_zajecia.ile_mispow()"
   ]
  },
  {
   "cell_type": "code",
   "execution_count": null,
   "metadata": {},
   "outputs": [],
   "source": [
    "print(pio_zajecia.lista_zajec)\n"
   ]
  },
  {
   "cell_type": "code",
   "execution_count": null,
   "metadata": {},
   "outputs": [],
   "source": [
    "pio_zajecia"
   ]
  },
  {
   "cell_type": "code",
   "execution_count": null,
   "metadata": {},
   "outputs": [],
   "source": [
    "print(pio_zajecia.ile_zajec)"
   ]
  },
  {
   "cell_type": "code",
   "execution_count": null,
   "metadata": {},
   "outputs": [],
   "source": [
    "lista_zajec= [DzienZajec(lista_dzien, dzien) for lista_dzien, dzien in \n",
    "             zip(zajecia,dnityg)]"
   ]
  },
  {
   "cell_type": "code",
   "execution_count": null,
   "metadata": {},
   "outputs": [],
   "source": [
    "print(lista_zajec)"
   ]
  },
  {
   "cell_type": "code",
   "execution_count": null,
   "metadata": {},
   "outputs": [],
   "source": [
    "posortowane_po_zajeciach=sorted(lista_zajec, key= lambda zajecie: zajecie.ile_zajec)\n",
    "posortowane_po_mispach=sorted(lista_zajec, key= lambda zajecie: zajecie.ile_mispow())"
   ]
  },
  {
   "cell_type": "code",
   "execution_count": null,
   "metadata": {},
   "outputs": [],
   "source": [
    "print(posortowane_po_zajeciach)"
   ]
  },
  {
   "cell_type": "code",
   "execution_count": null,
   "metadata": {},
   "outputs": [],
   "source": [
    "print(posortowane_po_mispach)"
   ]
  },
  {
   "cell_type": "markdown",
   "metadata": {},
   "source": [
    "##### challenge 1\n",
    "\n",
    "Stworz typ NumerTelefonu\n",
    "\n",
    " -- przy tworzeniu sprawdza czy właściwy numer (Polski) jeśli nie pisze, że error (ew. Exception)\n",
    " \n",
    " -- gdy printuję to mi pisze polskimi słowami i.e. \"jeden, pięć, siedem, zero\"\n",
    " \n",
    " -- gdy wywołuję właściwość wojewodzwtwo, podaje mi wojewodztwo ew. ze to komorkowy\n",
    " \n",
    " "
   ]
  },
  {
   "cell_type": "code",
   "execution_count": null,
   "metadata": {},
   "outputs": [],
   "source": [
    "# ma na takie rzeczy być w stanie odpowiedzieć\n",
    "\n",
    "numer_lodz = NumerTelefonu(\"426877868\")\n",
    ">>> \"prawidlowy numer\"\n",
    "\n",
    "numer_lodz.wojewodztwo \n",
    ">>> \"Lodz\"\n",
    "\n",
    "print(numer_lodz)\n",
    ">>> \"cztery dwa sześć osiem siedem siedem osiem sześć osiem\""
   ]
  }
 ],
 "metadata": {
  "kernelspec": {
   "display_name": "Python 3",
   "language": "python",
   "name": "python3"
  },
  "language_info": {
   "codemirror_mode": {
    "name": "ipython",
    "version": 3
   },
   "file_extension": ".py",
   "mimetype": "text/x-python",
   "name": "python",
   "nbconvert_exporter": "python",
   "pygments_lexer": "ipython3",
   "version": "3.7.3"
  }
 },
 "nbformat": 4,
 "nbformat_minor": 2
}
