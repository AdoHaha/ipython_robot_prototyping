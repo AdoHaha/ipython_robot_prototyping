{
 "cells": [
  {
   "cell_type": "markdown",
   "metadata": {},
   "source": [
    "## Tour of ROS tools with examples\n",
    "\n",
    "ROS has plenty of tools that can help prototype, test and deploy robots. \n",
    "\n",
    "We will focus of some of the most important:\n",
    "\n",
    " - **[Rviz](http://wiki.ros.org/rviz)**: which is a tool to visialize the state of the robot in 3D as well as to see its sensor readouts\n",
    "\n",
    " - **[Tf](http://wiki.ros.org/tf2)**: which is used to simplify calculations of robot's kinematics\n",
    "\n",
    " - **[Rosbag](http://wiki.ros.org/rosbag)**: which is used to log Robot experiments\n",
    "\n"
   ]
  },
  {
   "cell_type": "markdown",
   "metadata": {},
   "source": [
    "Here we will use the local server:"
   ]
  },
  {
   "cell_type": "code",
   "execution_count": null,
   "metadata": {},
   "outputs": [],
   "source": [
    "%env ROS_MASTER_URI=http://localhost:11311"
   ]
  },
  {
   "cell_type": "markdown",
   "metadata": {},
   "source": [
    "### Rviz\n",
    "\n",
    "**[Rviz](http://wiki.ros.org/rviz)** is a visualization tool for ROS which means that it is very good in understanding standard ROS messages and parameters, and translating them into understandable visualizations. \n",
    "\n",
    "Normally you don't program the Rviz itself but send information to appropriate topics and parameters. You can however, write additional toolboxes for it. \n",
    "\n"
   ]
  },
  {
   "cell_type": "code",
   "execution_count": null,
   "metadata": {},
   "outputs": [],
   "source": [
    "# we launch the rviz using the command rosrun rviz rviz\n",
    "import roslaunch\n",
    "import rospy\n",
    "import rosparam"
   ]
  },
  {
   "cell_type": "code",
   "execution_count": null,
   "metadata": {},
   "outputs": [],
   "source": [
    "rospy.init_node(\"tourist\")"
   ]
  },
  {
   "cell_type": "code",
   "execution_count": null,
   "metadata": {},
   "outputs": [],
   "source": [
    "### we will put robot description of Pi Robot (mymodelrobot.appspot.com) to the parameter server\n",
    "\n",
    "with open(\"../../description/pi_robot.urdf\", \"r\") as pi_robot_file:\n",
    "    urdf_text= pi_robot_file.read()\n",
    "\n",
    "\n",
    "rosparam.set_param_raw(\"robot_description\",urdf_text)"
   ]
  },
  {
   "cell_type": "code",
   "execution_count": null,
   "metadata": {},
   "outputs": [],
   "source": [
    "### we can now view the robot in rviz\n",
    "\n",
    "launch = roslaunch.scriptapi.ROSLaunch()\n",
    "launch.start()\n",
    "\n",
    "node_rviz = roslaunch.core.Node(\"rviz\",\n",
    "                            \"rviz\", name=\"rviz\") # this starts a ROS Node from ipython_robot_prototyping \n",
    "node_state_publisher= roslaunch.core.Node(\"robot_state_publisher\", \"robot_state_publisher\", name=\"robot_state_publisher\") #this starts our turtle\n",
    "\n",
    "node_joint_publisher = roslaunch.core.Node(\"joint_state_publisher\",\"joint_state_publisher\", name=\"joint_state_publisher\")\n",
    "\n",
    "nodes=[node_rviz,node_state_publisher,node_joint_publisher]"
   ]
  },
  {
   "cell_type": "code",
   "execution_count": null,
   "metadata": {},
   "outputs": [],
   "source": [
    "### this will start rviz and two helper programs, robot_state publisher and robot_joint_publisher\n",
    "all_procesess=[launch.launch(node) for node in nodes]\n",
    "    "
   ]
  },
  {
   "cell_type": "markdown",
   "metadata": {},
   "source": [
    "The code above started 3 programs:\n",
    "\n",
    " 1. rviz which is the visualizer\n",
    " 2. robot_state_publisher which takes joint_state messages and using robot design from URDF from \"robot_description\" describes where each robot part should be ( forward kinematics)\n",
    " 3. joint_state_publisher which is a helper node that just publishes that our joints are in 0 position\n",
    " \n",
    "To see our robot in Rviz, you need to click Add and then select \"Robot Model\"\n",
    "\n",
    "![](images/add_robot_rviz.png)\n",
    "\n",
    "Also change the \"fixed frame\" to base_link \n",
    "You should see a Pi robot model in Rviz.\n",
    "\n",
    "Normally we would get the state of the robot -- its joint positions/velocities/ accelerations from its sensors of from a simulation. We can still play around by publishing additional joint state messages."
   ]
  },
  {
   "cell_type": "code",
   "execution_count": null,
   "metadata": {},
   "outputs": [],
   "source": [
    "all_procesess[2].stop() #first we need to stop joint_state_publisher"
   ]
  },
  {
   "cell_type": "code",
   "execution_count": null,
   "metadata": {},
   "outputs": [],
   "source": [
    "from sensor_msgs.msg import JointState\n",
    "from std_msgs.msg import Header\n",
    "\n",
    "pub = rospy.Publisher('joint_states', JointState, queue_size=10)\n",
    "\n",
    "joint_names= ['torso_joint', \n",
    "'head_pan_joint', 'head_tilt_joint', 'left_shoulder_forward_joint',\n",
    "'right_shoulder_forward_joint', 'left_shoulder_up_joint', \n",
    "'right_shoulder_up_joint', 'left_elbow_joint', \n",
    "'right_elbow_joint', 'left_wrist_joint', 'right_wrist_joint']\n",
    "    \n",
    "    "
   ]
  },
  {
   "cell_type": "code",
   "execution_count": null,
   "metadata": {},
   "outputs": [],
   "source": [
    "joint_msg = JointState()\n",
    "joint_msg.header = Header()\n",
    "joint_msg.header.stamp = rospy.Time.now()\n",
    "joint_msg.name = joint_names\n",
    "joint_msg.position = [0.5,0,0,0,0,0,0,0,0,0,0]\n",
    "joint_msg.velocity = []\n",
    "joint_msg.effort = []\n",
    "\n",
    "pub.publish(joint_msg)"
   ]
  },
  {
   "cell_type": "markdown",
   "metadata": {},
   "source": [
    "This sends new joint position to our robot simulation, moving the torso.\n",
    "\n",
    "We can send such position in a loop."
   ]
  },
  {
   "cell_type": "code",
   "execution_count": null,
   "metadata": {},
   "outputs": [],
   "source": [
    "def move_torso(angle):\n",
    "    joint_msg = JointState()\n",
    "    joint_msg.header = Header()\n",
    "    joint_msg.header.stamp = rospy.Time.now()\n",
    "    joint_msg.name = joint_names\n",
    "    joint_msg.position = [angle,0,0,0,0,0,0,0,0,0,0]\n",
    "    joint_msg.velocity = []\n",
    "    joint_msg.effort = []\n",
    "\n",
    "    pub.publish(joint_msg)"
   ]
  },
  {
   "cell_type": "code",
   "execution_count": null,
   "metadata": {},
   "outputs": [],
   "source": [
    "move_torso(0)"
   ]
  },
  {
   "cell_type": "code",
   "execution_count": null,
   "metadata": {},
   "outputs": [],
   "source": [
    "### we can create a small loop that moves shoulder \n",
    "rate = rospy.Rate(10) # 10Hz move 10 times per s\n",
    "\n",
    "import math\n",
    "\n",
    "### amplitude - how far torso will go\n",
    "### omega - how fast torso will go\n",
    "\n",
    "amplitude= math.pi/2\n",
    "omega= 1.5\n",
    "while not rospy.is_shutdown():\n",
    "        t=rospy.Time.now().to_sec()\n",
    "        move_torso(amplitude*math.sin(omega*t))\n",
    "        rate.sleep()"
   ]
  },
  {
   "cell_type": "markdown",
   "metadata": {},
   "source": [
    "### Exercise:\n",
    "\n",
    "Try to also move a shoulder "
   ]
  },
  {
   "cell_type": "code",
   "execution_count": null,
   "metadata": {},
   "outputs": [],
   "source": [
    "# your code"
   ]
  },
  {
   "cell_type": "markdown",
   "metadata": {},
   "source": [
    "We can add additional elements to Rviz scene, such as markers"
   ]
  },
  {
   "cell_type": "code",
   "execution_count": null,
   "metadata": {},
   "outputs": [],
   "source": [
    "from visualization_msgs.msg import Marker"
   ]
  },
  {
   "cell_type": "code",
   "execution_count": null,
   "metadata": {},
   "outputs": [],
   "source": [
    "vis_pub = rospy.Publisher(\"visualization_marker\",Marker, queue_size=5 );"
   ]
  },
  {
   "cell_type": "code",
   "execution_count": null,
   "metadata": {},
   "outputs": [],
   "source": [
    "marker = Marker()\n",
    "marker.header.frame_id = \"base_link\";\n",
    "marker.header.stamp = rospy.Time.now()\n",
    "marker.ns = \"markers\";\n",
    "marker.id = 0;\n",
    "marker.type = 2 #sphere\n",
    "marker.action =0 # add\n",
    "marker.pose.position.x = 0.5;\n",
    "marker.pose.position.y = 0.5;\n",
    "marker.pose.position.z =0.5;\n",
    "marker.pose.orientation.x = 0.0;\n",
    "marker.pose.orientation.y = 0.0;\n",
    "marker.pose.orientation.z = 0.0;\n",
    "marker.pose.orientation.w = 1.0;\n",
    "marker.scale.x = 0.1;\n",
    "marker.scale.y = 0.1;\n",
    "marker.scale.z = 0.1;\n",
    "marker.color.a = 1.0; # Don't forget to set the alpha!\n",
    "marker.color.r = 0.0;\n",
    "marker.color.g = 1.0;\n",
    "marker.color.b = 0.0;\n",
    "\n",
    "vis_pub.publish( marker );"
   ]
  },
  {
   "cell_type": "markdown",
   "metadata": {},
   "source": [
    "To see the result in Rviz you need to add new \"Marker\" display type. We can orbit around the robot similarely how you rotated the shoulder.\n",
    "\n",
    "### Exercise:\n",
    "\n",
    "Orbit the sphere around the robot. Create a function for x y similar to that:\n",
    "\n",
    "        x = 0.5 sin (t* omega)\n",
    "\n",
    "        y = 0.5 cos (t * omega)"
   ]
  },
  {
   "cell_type": "markdown",
   "metadata": {},
   "source": [
    "### Other types of information\n",
    "\n",
    "You can also see other types of information like 3d point clouds or camera streams. We will use usb_camera package to stream our images to ROS.\n"
   ]
  },
  {
   "cell_type": "code",
   "execution_count": null,
   "metadata": {
    "scrolled": true
   },
   "outputs": [],
   "source": [
    "camera_node=roslaunch.core.Node(\"cv_camera\", \"cv_camera_node\", name=\"cv_camera\") #this starts our turtle\n",
    "nodes.append(camera_node)\n",
    "all_procesess.append(launch.launch(camera_node))"
   ]
  },
  {
   "cell_type": "markdown",
   "metadata": {},
   "source": [
    "This time you need to add \"Image\" and select topic as \"usb_camera/image_raw\""
   ]
  }
 ],
 "metadata": {
  "kernelspec": {
   "display_name": "Python 3",
   "language": "python",
   "name": "python3"
  },
  "language_info": {
   "codemirror_mode": {
    "name": "ipython",
    "version": 3
   },
   "file_extension": ".py",
   "mimetype": "text/x-python",
   "name": "python",
   "nbconvert_exporter": "python",
   "pygments_lexer": "ipython3",
   "version": "3.5.2"
  }
 },
 "nbformat": 4,
 "nbformat_minor": 2
}
