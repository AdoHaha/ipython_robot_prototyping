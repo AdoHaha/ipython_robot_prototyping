{
 "cells": [
  {
   "cell_type": "markdown",
   "metadata": {},
   "source": [
    "### Exercise: control the ESPbot\n",
    "\n",
    "From now on we will be using our ESPBots to play with ROS. Our goal is to learn how to control this robot in an easy way so that we can rapidly create some interesting scenarios for it. IPython's tools will help us get the interactive behavior in the fastest way.\n",
    "\n",
    "Each of ESPBots has a servo -- a motor which position we can control directly and a light sensor which measures the amount of light that is received to it.\n",
    "\n",
    "\n",
    "As there are a couple of ESPBots available (each with name BOTx where x is a number), look how the one you are controlling is called as his topics are published in his **namespace**. \n",
    "\n",
    "Publications: \n",
    " * /BOTx/sensor_value [std_msgs/Int16]\n",
    " * /rosout [rosgraph_msgs/Log]\n",
    " * /BOTx/sensor_binary_value [std_msgs/Bool]\n",
    "\n",
    "Subscriptions: \n",
    " * /BOTx/servo [std_msgs/Int16]\n",
    "\n",
    "\n",
    "Some additional info:\n",
    "\n",
    " * Servo is controlled on /BOTx/servo topic and has range 0-180.\n",
    "\n",
    " * You need to find yourself the range of sensor_value published on topic /BOTx.\n",
    "\n",
    " * Your goal is to create an interactive slider to move the servo. Good luck! :)"
   ]
  },
  {
   "cell_type": "code",
   "execution_count": null,
   "metadata": {
    "collapsed": true,
    "scrolled": false
   },
   "outputs": [],
   "source": [
    "%env ROS_MASTER_URI=http://igor-laptop-linux:11311"
   ]
  },
  {
   "cell_type": "code",
   "execution_count": null,
   "metadata": {
    "collapsed": true
   },
   "outputs": [],
   "source": [
    "import rospy\n",
    "\n",
    "#### PUT your UNIQUE name here\n",
    "rospy.init_node(\".....\", anonymous=True)"
   ]
  },
  {
   "cell_type": "code",
   "execution_count": null,
   "metadata": {
    "collapsed": true
   },
   "outputs": [],
   "source": [
    "#### this is an bonus code, to show how to read a message once\n",
    "\n",
    "from std_msgs.msg import Int16\n",
    "sensor_value=rospy.wait_for_message(\"BOT..../sensor_value\",Int16)\n",
    "print(sensor_value)"
   ]
  },
  {
   "cell_type": "markdown",
   "metadata": {},
   "source": [
    " #### *SOME GUIDELINES:*"
   ]
  },
  {
   "cell_type": "code",
   "execution_count": null,
   "metadata": {
    "collapsed": true
   },
   "outputs": [],
   "source": [
    "# import the right things, like the correct topic message (what does the servo_pos want?)\n"
   ]
  },
  {
   "cell_type": "code",
   "execution_count": null,
   "metadata": {
    "collapsed": true
   },
   "outputs": [],
   "source": [
    "# define the publisher here\n"
   ]
  },
  {
   "cell_type": "code",
   "execution_count": null,
   "metadata": {
    "collapsed": true
   },
   "outputs": [],
   "source": [
    "# define your function here\n"
   ]
  },
  {
   "cell_type": "code",
   "execution_count": null,
   "metadata": {
    "collapsed": true
   },
   "outputs": [],
   "source": [
    "# use ipywidgets.interact_manual with the correct settings\n"
   ]
  },
  {
   "cell_type": "markdown",
   "metadata": {},
   "source": [
    "### Exercise:\n",
    "\n",
    "In this excercise you will connect to your ESPbot to read its light sensor (topic: /BOTx/sensor_value).\n",
    "\n",
    "You need to be connected to the main ROS network to see your robot. \n",
    "\n"
   ]
  },
  {
   "cell_type": "markdown",
   "metadata": {},
   "source": [
    "#### *SOME GUIDELINES:*"
   ]
  },
  {
   "cell_type": "code",
   "execution_count": null,
   "metadata": {
    "collapsed": true
   },
   "outputs": [],
   "source": [
    "# import the correct things\n"
   ]
  },
  {
   "cell_type": "markdown",
   "metadata": {},
   "source": [
    "** Try a couple of different ways:**"
   ]
  },
  {
   "cell_type": "code",
   "execution_count": null,
   "metadata": {
    "collapsed": true
   },
   "outputs": [],
   "source": [
    "# define a slider, let the callback function for the subscriber move the slider\n"
   ]
  },
  {
   "cell_type": "code",
   "execution_count": null,
   "metadata": {
    "collapsed": true
   },
   "outputs": [],
   "source": [
    "# plot the value on a plot, the callback function can \"stream\" the data to a bokeh plot\n"
   ]
  },
  {
   "cell_type": "code",
   "execution_count": null,
   "metadata": {
    "collapsed": true
   },
   "outputs": [],
   "source": [
    "# if you want to go fancy, build an observer object with traitlets\n",
    "\n"
   ]
  },
  {
   "cell_type": "markdown",
   "metadata": {},
   "source": [
    "### Congratulation! Mission completed :-)"
   ]
  },
  {
   "cell_type": "markdown",
   "metadata": {},
   "source": [
    "Next step: [Tour_of_ROS_tools_with_examples.ipynb](Tour_of_ROS_tools_with_examples.ipynb)"
   ]
  }
 ],
 "metadata": {
  "kernelspec": {
   "display_name": "Python 3",
   "language": "python",
   "name": "python3"
  },
  "language_info": {
   "codemirror_mode": {
    "name": "ipython",
    "version": 3
   },
   "file_extension": ".py",
   "mimetype": "text/x-python",
   "name": "python",
   "nbconvert_exporter": "python",
   "pygments_lexer": "ipython3",
   "version": "3.5.2"
  }
 },
 "nbformat": 4,
 "nbformat_minor": 2
}
