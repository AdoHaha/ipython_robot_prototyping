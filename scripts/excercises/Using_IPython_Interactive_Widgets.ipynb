{
 "cells": [
  {
   "cell_type": "markdown",
   "metadata": {},
   "source": [
    "### Using IPython Interactive Widgets to control a robot\n",
    "\n",
    "In this notebook, you will learn how to use interactive **[widgets](http://ipywidgets.readthedocs.io/en/latest/examples/Widget%20Basics.html)** to control a robot. We will first try to control a turtle from *[turtlesim](http://wiki.ros.org/action/fullsearch/turtlesim?action=fullsearch&context=180&value=linkto%3A%22turtlesim%22)* simulation.\n",
    "\n",
    "In the turtlesim simulator we can guide a virtual turtle by sending him [_twist_](http://wiki.ros.org/geometry_msgs) messages. To simplify, everyone will run his own simulator, on his local roscore server."
   ]
  },
  {
   "cell_type": "code",
   "execution_count": null,
   "metadata": {},
   "outputs": [],
   "source": [
    "%env ROS_MASTER_URI=http://localhost:11311\n",
    "        \n",
    "import rospy\n",
    "import roslaunch\n",
    "import rosnode"
   ]
  },
  {
   "cell_type": "markdown",
   "metadata": {},
   "source": [
    "We need also to start *roscore*, as we are working on our local computer"
   ]
  },
  {
   "cell_type": "code",
   "execution_count": null,
   "metadata": {},
   "outputs": [],
   "source": [
    "import subprocess\n",
    "roscore_process=subprocess.Popen([\"roscore\"])"
   ]
  },
  {
   "cell_type": "markdown",
   "metadata": {},
   "source": [
    "We will start a turtlesim node using **roslaunch** command. This will be explained in more detail in next notebook."
   ]
  },
  {
   "cell_type": "code",
   "execution_count": null,
   "metadata": {},
   "outputs": [],
   "source": [
    "launch = roslaunch.scriptapi.ROSLaunch()\n",
    "launch.start()\n",
    "node2=roslaunch.core.Node(\"turtlesim\", \"turtlesim_node\",name=\"turtlesim_node\")\n",
    "launch.launch(node2)"
   ]
  },
  {
   "cell_type": "markdown",
   "metadata": {},
   "source": [
    "You should see a turtle swimming in the sea. I suggest that you rightlick on the turtlesim window bar and set \"always on top\". In this way you can see what is going on when you publish some messages. \n",
    "\n",
    "## Exercise:\n",
    "Now use** *rosnode.rosnode_info* ** to see what it can do (its name is turtlesim_node)."
   ]
  },
  {
   "cell_type": "code",
   "execution_count": null,
   "metadata": {
    "scrolled": true
   },
   "outputs": [],
   "source": [
    "#You will receive some comments about the function\n",
    "? rosnode.rosnode_info"
   ]
  },
  {
   "cell_type": "code",
   "execution_count": null,
   "metadata": {},
   "outputs": [],
   "source": [
    "rosnode.rosnode_info(\"turtlesim_node\") #Put your code here"
   ]
  },
  {
   "cell_type": "markdown",
   "metadata": {},
   "source": [
    "### Controling the turtle via a Twist command\n",
    "\n",
    "With rosnode_info command You can see that there is plenty to do with the turtle.\n",
    "To change its position we need to use **turtle1/cmd_vel** topic with a Twist type message\n"
   ]
  },
  {
   "cell_type": "code",
   "execution_count": null,
   "metadata": {},
   "outputs": [],
   "source": [
    "# we import the definition of a Twist message\n",
    "from geometry_msgs.msg import Twist "
   ]
  },
  {
   "cell_type": "markdown",
   "metadata": {},
   "source": [
    "We can check if the robot reacts to some twist message by setting up a publisher\n"
   ]
  },
  {
   "cell_type": "code",
   "execution_count": null,
   "metadata": {},
   "outputs": [],
   "source": [
    "#we initialize with your favorite node name\n",
    "rospy.init_node(\"turtle_controller\") \n",
    "\n",
    "#we create a publisher for a \"/turtle1/cmd_vel\" topic\n",
    "twist_publisher= rospy.Publisher(\"/turtle1/cmd_vel\",Twist,queue_size=10) "
   ]
  },
  {
   "cell_type": "code",
   "execution_count": null,
   "metadata": {},
   "outputs": [],
   "source": [
    "### let's create some twist message\n",
    "some_message=Twist()\n",
    "some_message.angular.z=1\n",
    "some_message.linear.x=10\n",
    "\n",
    "twist_publisher.publish(some_message)"
   ]
  },
  {
   "cell_type": "markdown",
   "metadata": {},
   "source": [
    "Try setting some different values and looking what the turtle does. \n",
    "\n",
    "While it gives us some intuition on how the robot behaves, we need to rerun the IPython cell to understand the behaviour. There is a better way :)\n",
    "\n",
    "First let's define a function that modifies these 3 values in a message and then sends it\n",
    "\n"
   ]
  },
  {
   "cell_type": "code",
   "execution_count": null,
   "metadata": {},
   "outputs": [],
   "source": [
    "\n",
    "def move_turtle(forward_vel=5,rotation_vel=5):\n",
    "    '''A function to move turtle from turtlesim simulation\n",
    "    \n",
    "    Args:\n",
    "        forward_vel (float): Linear velocity\n",
    "        rotation_vel (float): Angular velocity'''\n",
    "    message=Twist()\n",
    "    message.angular.z=rotation_vel\n",
    "    message.linear.x=forward_vel\n",
    "    \n",
    "    \n",
    "    twist_publisher.publish(message)"
   ]
  },
  {
   "cell_type": "markdown",
   "metadata": {},
   "source": [
    "We can now move the turtle using this function. "
   ]
  },
  {
   "cell_type": "code",
   "execution_count": null,
   "metadata": {},
   "outputs": [],
   "source": [
    "move_turtle(1,-1)"
   ]
  },
  {
   "cell_type": "markdown",
   "metadata": {},
   "source": [
    "The fun part comes when we use widgets.\n",
    "\n",
    "Let's put our function as an argument to a interact function from ipywidgets"
   ]
  },
  {
   "cell_type": "code",
   "execution_count": null,
   "metadata": {},
   "outputs": [],
   "source": [
    "import ipywidgets\n"
   ]
  },
  {
   "cell_type": "code",
   "execution_count": null,
   "metadata": {},
   "outputs": [],
   "source": [
    "ipywidgets.interact(move_turtle)"
   ]
  },
  {
   "cell_type": "markdown",
   "metadata": {},
   "source": [
    "When you run the code above, you should get an two interactive sliders, that allow you to control the turtle. \n",
    "The interact function guessed the right controllers because we put a default values for parameters of our function\n",
    "\n",
    "The interact function has many fun parameters to choose but in case of prototyping algorithms for robots we are mostly interested in couple of them\n"
   ]
  },
  {
   "cell_type": "code",
   "execution_count": null,
   "metadata": {},
   "outputs": [],
   "source": [
    "ipywidgets.interact(move_turtle,\n",
    "                    forward_vel=ipywidgets.FloatSlider(min=-10,max=10,step=2,value=0),\n",
    "                   rotation_vel= ipywidgets.FloatSlider(min=-3,max=3,value=0))"
   ]
  },
  {
   "cell_type": "markdown",
   "metadata": {},
   "source": [
    "In some situations we also want first to put some values and then to start the simulaiton. We can do this by using interact_manual"
   ]
  },
  {
   "cell_type": "code",
   "execution_count": null,
   "metadata": {},
   "outputs": [],
   "source": [
    "ipywidgets.interact_manual(move_turtle,\n",
    "                    forward_vel=ipywidgets.FloatSlider(min=-10,max=10,step=2,value=0),\n",
    "                   rotation_vel= ipywidgets.FloatSlider(min=-3,max=3,value=0))"
   ]
  },
  {
   "cell_type": "markdown",
   "metadata": {},
   "source": [
    "This is a more complicated use of interact. We have explicitly stated types of values (floats) by using *FloatSliders* and minimum and maximum values of these sliders. We have also used interact_manual which gives us additional button to \"send\" the values. Otherwise, it would be sending the values on every change bigger than the step value for a particular slider. In the case of many robot functions, we want first to set some \"target\" and then to publish this target. \n",
    "\n",
    "Instead of interact_manual you can also use continuous_update=False to run the simulation only when you release the mouse."
   ]
  },
  {
   "cell_type": "markdown",
   "metadata": {},
   "source": [
    "### Exercise:\n",
    "\n",
    "We can teleport the turtle to some particular place using teleport_absolute service. Create widgets for x,y, theta to teleport turtle. Rememeber that the size of the field is 10x10 (x and y from 0 to 10) and theta is in radians (from 0 to 2 pi)\n"
   ]
  },
  {
   "cell_type": "code",
   "execution_count": null,
   "metadata": {
    "scrolled": true
   },
   "outputs": [],
   "source": [
    "\n",
    "from turtlesim.srv import TeleportAbsolute\n",
    "from math import pi\n",
    "\n",
    "\n",
    "## here create a service proxy function for /turtle1/teleport_absolute of TeleportAbsolute type\n",
    "service_teleport = ...\n",
    "\n",
    "def teleport_turtle(x=0.0,y=0.0,theta=0.0):\n",
    "    service_teleport(x,y,theta)\n",
    "\n",
    "# create an interact widget here with correct min max values for arguments\n",
    "..."
   ]
  },
  {
   "cell_type": "markdown",
   "metadata": {},
   "source": [
    "*HINT: You have an example of how to create a ServiceProxy function in previous notebook.*"
   ]
  },
  {
   "cell_type": "markdown",
   "metadata": {
    "collapsed": true
   },
   "source": [
    "### More widget types\n",
    "\n",
    "There are more categories of widgets such as a color picker, button or select which could be used for example while configuring rosparam. What is cooler is that the type of widget can frequently be set automatically, by setting the default value of function argument."
   ]
  },
  {
   "cell_type": "code",
   "execution_count": null,
   "metadata": {
    "scrolled": true
   },
   "outputs": [],
   "source": [
    "import rosparam\n",
    "\n",
    "def set_Ono_occupation(occupation=[\"programmer\",\"ROS tutor\",\"model\"]):\n",
    "    rosparam.set_param(\"/Ono/occupation\",occupation)\n",
    "    print(\"Ono occupation changed to {occupation}\".format(occupation=occupation))\n",
    "ipywidgets.interact(set_Ono_occupation)"
   ]
  },
  {
   "cell_type": "markdown",
   "metadata": {},
   "source": [
    "The same can be done with *decorators*, that is, you add @ipywidgets.interact at the top of your function's definition."
   ]
  },
  {
   "cell_type": "code",
   "execution_count": null,
   "metadata": {},
   "outputs": [],
   "source": [
    "import rosparam\n",
    "@ipywidgets.interact #we use a \n",
    "def set_Ono_occupation(occupation=[\"programmer\",\"ROS tutor\",\"model\"]):\n",
    "    print(\"Ono occupation changed to {occupation}\".format(occupation=occupation))\n",
    "    rosparam.set_param(\"/Ono/occupation\",occupation)\n",
    "    \n"
   ]
  },
  {
   "cell_type": "markdown",
   "metadata": {},
   "source": [
    "### Close roscore"
   ]
  },
  {
   "cell_type": "code",
   "execution_count": null,
   "metadata": {},
   "outputs": [],
   "source": [
    "roscore_process.kill()"
   ]
  },
  {
   "cell_type": "markdown",
   "metadata": {
    "collapsed": true
   },
   "source": [
    "### WRAPUP\n",
    "\n",
    "What you have learned:\n",
    "\n",
    "1. You have used ipython interactive widgets to control a turtlesim.\n",
    "2. You have learned different options of this command to modify it to needs.\n",
    "3. You used the widget as a decorator.\n",
    "\n"
   ]
  },
  {
   "cell_type": "markdown",
   "metadata": {},
   "source": [
    "## Nice job! \n",
    "\n",
    "Now, you can continue our journey with next notebook **[Visualizing_robot_senses.ipynb](Visualizing_robot_senses.ipynb)**."
   ]
  }
 ],
 "metadata": {
  "kernelspec": {
   "display_name": "Python 3",
   "language": "python",
   "name": "python3"
  },
  "language_info": {
   "codemirror_mode": {
    "name": "ipython",
    "version": 3
   },
   "file_extension": ".py",
   "mimetype": "text/x-python",
   "name": "python",
   "nbconvert_exporter": "python",
   "pygments_lexer": "ipython3",
   "version": "3.5.2"
  }
 },
 "nbformat": 4,
 "nbformat_minor": 2
}
