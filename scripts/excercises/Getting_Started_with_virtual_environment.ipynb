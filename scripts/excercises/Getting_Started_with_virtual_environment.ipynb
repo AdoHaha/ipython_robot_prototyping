{
 "cells": [
  {
   "cell_type": "markdown",
   "metadata": {},
   "source": [
    "## QUICK START\n",
    "\n",
    "### How to get started with the virtual environment\n",
    "\n",
    " * Switch on virtualization technology in bios\n",
    " * The virtual machine file is availible at (https://transfer.sh/RdN7b/VM_Ubuntu-ROS_new.ova) or (during the workshop at local server (http://igor-laptop-linux:8000/vm/VM_Ubuntu-ROS_new.ova) and on pendrives/hardrives.\n",
    " * The installation files for VirtualBox and VirtualBox extension pack will also be availible at local server (http://igor-laptop-linux:8000), but it would be much better if you could install it beforehand using the from [official source](https://www.virtualbox.org/wiki/Downloads) with additional [extension pack](http://download.virtualbox.org/virtualbox/5.1.26/Oracle_VM_VirtualBox_Extension_Pack-5.1.26-117224.vbox-extpack). \n",
    "\n",
    " \n",
    "\n",
    "### More detailed setup\n",
    "\n",
    " * Download the instalation file for virtualbox named: \"virtualbox-5.1_5.1.26-117224~xyz, where xyz is a name of your operating system. Example: \"virtualbox-5.1_5.1.26-117224~Ubuntu~xenial_amd64.deb\" for Ubuntu 16.04.\n",
    " * Open downloaded file and install it.\n",
    " * Download extension pack from the same folder or here: [extension pack](http://download.virtualbox.org/virtualbox/5.1.26/Oracle_VM_VirtualBox_Extension_Pack-5.1.26-117224.vbox-extpack). \n",
    " * **Download the Virtual Machine itself from [(http://igor-laptop-linux:8000/vm/VM_Ubuntu-ROS_new.ova)](http://igor-laptop-linux:8000/vm/VM_Ubuntu-ROS_new.ova)**"
   ]
  },
  {
   "cell_type": "markdown",
   "metadata": {},
   "source": [
    "\n",
    "\n",
    "Extension Pack mainly adds support for USB devices connected to host machine and webcam passthrough, it can be installed only after proper setup of VBox simply by double-clicking its file or from VBox settings manager (**File**->**Perferences**->**Extensions** Ctrl+G).\n",
    "![VBox extensions](images/extensions.png)"
   ]
  },
  {
   "cell_type": "markdown",
   "metadata": {},
   "source": [
    "Download virtual machine image OVA (Open Virtualization Format) file from sources pointed out by instructors. (http://igor-laptop-linux:8000/vm/VM_Ubuntu-ROS_new.ova) \n",
    "After double-clicking it or opening from **File**->**Import Appliance** menu (Ctrl+I) you should get form like in picture bellow. Check Reinitialize MAC addres checkbox if not checked and click import.\n",
    "![import VM image](images/import_vm.png)"
   ]
  },
  {
   "cell_type": "markdown",
   "metadata": {},
   "source": [
    "\n",
    "After VM is imported we need to change a few settings. At first, network needs to be configured in a way which makes machine visible at host network. Just go to **machine settings**(Ctrl+S) -> **Network** and configure it accordingly to picture bellow:\n",
    "![VM network settings](images/network_settings.png)\n",
    "![VM network settings ubuntu](images/network_ubuntu.png)\n",
    "Please remember to chose the name of network interface to one which is used by host system for connection with local network.\n",
    "\n",
    "Then go to USB settings and enable USB 2.0 bus. \n",
    "![VM USB settings](images/camera_settings.png)\n",
    "\n"
   ]
  },
  {
   "cell_type": "markdown",
   "metadata": {},
   "source": [
    "To start the machine press the green arrow button. Machine should boot up without any problems.\n",
    "Your username is **robotuser** password is **robot**.\n",
    "Additionaly if you have USB or built-in camera - for stream sharing, select the device from **Devices**->**Webcams** menu in running VM instance window. Image bellow ilustrates this step. \n",
    "![VM cam](images/webcam_settings.png)"
   ]
  },
  {
   "cell_type": "code",
   "execution_count": null,
   "metadata": {
    "collapsed": true
   },
   "outputs": [],
   "source": []
  }
 ],
 "metadata": {
  "kernelspec": {
   "display_name": "Python 3",
   "language": "python",
   "name": "python3"
  },
  "language_info": {
   "codemirror_mode": {
    "name": "ipython",
    "version": 3
   },
   "file_extension": ".py",
   "mimetype": "text/x-python",
   "name": "python",
   "nbconvert_exporter": "python",
   "pygments_lexer": "ipython3",
   "version": "3.5.2"
  }
 },
 "nbformat": 4,
 "nbformat_minor": 1
}
