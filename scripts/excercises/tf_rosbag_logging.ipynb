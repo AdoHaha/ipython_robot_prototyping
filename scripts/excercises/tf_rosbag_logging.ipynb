{
 "cells": [
  {
   "cell_type": "markdown",
   "metadata": {},
   "source": [
    "## TF, ROSBAG, LOGGING\n"
   ]
  },
  {
   "cell_type": "markdown",
   "metadata": {},
   "source": [
    "### TF\n",
    "\n",
    "Calculating forward kinematics is one of most frequent things in robotics.\n",
    "\n",
    "We want to know how each object (say robot) is oriented relative to some other object (say a door handle)\n",
    "so we can then calculate how to move one towards another.\n",
    "\n",
    "Because of that coordinate frames (TF -- transform frames) that describe how elements are related is an important object.\n",
    "\n",
    "Currentely a set of coordinate frames is published for us by robot_state_publisher. Let's read one such frame\n"
   ]
  },
  {
   "cell_type": "code",
   "execution_count": null,
   "metadata": {},
   "outputs": [],
   "source": [
    "import rospy\n",
    "rospy.init_node('tf_listener')\n",
    "\n",
    "from tf2_msgs.msg import TFMessage\n",
    "tf_message=rospy.wait_for_message(\"/tf\",TFMessage)\n",
    "print(tf_message)"
   ]
  },
  {
   "cell_type": "markdown",
   "metadata": {},
   "source": [
    "As usuall, there is a lot of info in such a single message. But the important part are two:\n",
    "one is the child - parent relation between frame_id and child_frame_id. \n",
    "\n",
    "/tf topic has messages that are *relations* between some coordinate systems. In can be realition between a ground and a robot but it can be a relation between a robot torso and a robot shoulder. To build a whole robot structure we collect a set of such relations to build a *kinematic tree*.\n",
    "\n",
    "Let's see how this kinematic tree looks for our robot"
   ]
  },
  {
   "cell_type": "code",
   "execution_count": null,
   "metadata": {},
   "outputs": [],
   "source": [
    "!rosrun tf view_frames && evince frames.pdf"
   ]
  },
  {
   "cell_type": "markdown",
   "metadata": {},
   "source": [
    "But actually we normally do not use these messagages directely, instead we use tf.TransformListener'ers (instead of Subscribers) and tf.TransformBroadcaster's. This is  because we can select some particular transformations that we need and the listener will calculate them for us. \n",
    "\n",
    "For example, let's say we want to know the position of robot's head relative to its base"
   ]
  },
  {
   "cell_type": "code",
   "execution_count": null,
   "metadata": {},
   "outputs": [],
   "source": [
    "import tf\n",
    "import rospy\n",
    "## here we just move robot to some base position\n",
    "\n",
    "\n",
    "\n",
    "listener = tf.TransformListener()\n",
    "\n",
    "\n",
    "rate = rospy.Rate(10.0)\n",
    "\n",
    "trans=None\n",
    "\n",
    "while(trans is None):\n",
    "    try:\n",
    "\n",
    "            (trans,rot) = listener.lookupTransform( 'right_shoulder_link','torso_link', rospy.Time(0))\n",
    "\n",
    "    except (tf.LookupException, tf.ConnectivityException, tf.ExtrapolationException) as e:\n",
    "        pass\n",
    "    rate.sleep()\n",
    "        \n",
    "        \n",
    "print(\"Position\",trans)\n",
    "print(\"Rotation in quaternions\",rot)\n",
    "\n",
    "    "
   ]
  },
  {
   "cell_type": "markdown",
   "metadata": {
    "collapsed": true
   },
   "source": [
    "## Rosbag\n",
    "\n",
    "Rosbag is a tool for recording the stream of topics and than replaying or analising them"
   ]
  },
  {
   "cell_type": "code",
   "execution_count": null,
   "metadata": {
    "scrolled": false
   },
   "outputs": [],
   "source": [
    "!rosbag record /tf -O demo.bag"
   ]
  },
  {
   "cell_type": "code",
   "execution_count": null,
   "metadata": {},
   "outputs": [],
   "source": [
    "!rosbag info demo.bag"
   ]
  },
  {
   "cell_type": "code",
   "execution_count": null,
   "metadata": {},
   "outputs": [],
   "source": [
    "import rosbag\n",
    "from itertools import islice\n",
    "\n",
    "bag = rosbag.Bag('demo.bag')\n",
    "for topic, msg, t in islice(bag.read_messages(topics=['/tf']),0,10):\n",
    "    print msg\n",
    "bag.close()\n"
   ]
  },
  {
   "cell_type": "markdown",
   "metadata": {},
   "source": [
    "## You have finished the practical part of the workshop! CONGRATULATIONS!\n",
    "Lets wrap up all"
   ]
  }
 ],
 "metadata": {
  "kernelspec": {
   "display_name": "Python 3",
   "language": "python",
   "name": "python3"
  },
  "language_info": {
   "codemirror_mode": {
    "name": "ipython",
    "version": 3
   },
   "file_extension": ".py",
   "mimetype": "text/x-python",
   "name": "python",
   "nbconvert_exporter": "python",
   "pygments_lexer": "ipython3",
   "version": "3.5.2"
  }
 },
 "nbformat": 4,
 "nbformat_minor": 2
}
