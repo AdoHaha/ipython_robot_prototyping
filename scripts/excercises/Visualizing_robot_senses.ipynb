{
 "cells": [
  {
   "cell_type": "markdown",
   "metadata": {},
   "source": [
    "### Visualizing robot senses using ROS and Bokeh library\n",
    "\n",
    "As you can see, robots publish many topics that could be interesting to see. \n",
    "Visualizing state of a sensor is the first step to understand it.\n",
    "\n",
    "We will start with visualizing the state of the turtlesim through some cool techniques.\n",
    "\n",
    "This time we will use the local server -- your own computer will become **[rosmaster](http://wiki.ros.org/rosmaster)**. "
   ]
  },
  {
   "cell_type": "code",
   "execution_count": null,
   "metadata": {
    "scrolled": true
   },
   "outputs": [],
   "source": [
    "%env ROS_MASTER_URI=http://localhost:11311\n",
    "        \n",
    "import rospy\n",
    "import roslaunch\n",
    "import rosnode\n",
    "import os"
   ]
  },
  {
   "cell_type": "markdown",
   "metadata": {},
   "source": [
    "We will start *roscore* on your own machine"
   ]
  },
  {
   "cell_type": "code",
   "execution_count": null,
   "metadata": {},
   "outputs": [],
   "source": [
    "import subprocess\n",
    "roscore_process=subprocess.Popen([\"roscore\"])"
   ]
  },
  {
   "cell_type": "markdown",
   "metadata": {},
   "source": [
    "### Launching additional nodes\n",
    "\n",
    "While our script will become a ROS node actually we can even launch additional nodes from it, using *roslaunch*.\n",
    "**[roslaunch](http://wiki.ros.org/roslaunch)** is a set of utlility functions to help start, run and stop ROS nodes. While we will not go into detail here about how ROS launch can be used, this is a simple use case -- launching a set of ROS nodes and keeping the references to a processes in a list."
   ]
  },
  {
   "cell_type": "code",
   "execution_count": null,
   "metadata": {
    "scrolled": false
   },
   "outputs": [],
   "source": [
    "\n",
    "import roslaunch\n",
    "\n",
    "launch = roslaunch.scriptapi.ROSLaunch()\n",
    "launch.start()\n",
    "\n",
    "node1 = roslaunch.core.Node(\"ipython_robot_prototyping\",\n",
    "                            \"roomba_simulator.py\", name=\"roomba_sim\") # this starts a ROS Node from ipython_robot_prototyping \n",
    "node2= roslaunch.core.Node(\"turtlesim\", \"turtlesim_node\", name=\"turtlesim_node\") #this starts our turtle\n",
    "\n",
    "node3 =roslaunch.core.Node(\"topic_tools\", \"throttle\", args=\"messages turtle1/distance 10.0\", name=\"distance_throttle\") #here we define node with additional parameters\n",
    "\n",
    "node4 = roslaunch.core.Node(\"topic_tools\", \"throttle\", args=\"messages turtle1/pose 10\", name=\"pose_throttle\")\n",
    "\n",
    "\n",
    "all_nodes=[node1,node2,node3,node4]\n",
    "\n",
    "\n",
    "\n",
    "all_processes=[launch.launch(node) for node in all_nodes]\n",
    "\n",
    "#we can launch the processes individually\n",
    "#roomba_process= launch.launch(node1)\n",
    "\n",
    "#turtle_process=launch.launch(node2)\n",
    "\n",
    "\n",
    "#distance_throttle_process=launch.launch(node3)\n",
    "\n",
    "#pose_throttle_process=launch.launch(node4)\n"
   ]
  },
  {
   "cell_type": "code",
   "execution_count": null,
   "metadata": {},
   "outputs": [],
   "source": [
    "### we can close the ROS nodes from ipython too\n",
    "\n",
    "for process in all_processes:\n",
    "    process.stop()\n",
    "\n",
    "    \n",
    "# or individually    \n",
    "#distance_throttle_process.stop()\n",
    "#pose_throttle_process.stop()\n",
    "\n",
    "#roomba_process.stop()\n",
    "#turtle_process.stop()"
   ]
  },
  {
   "cell_type": "markdown",
   "metadata": {},
   "source": [
    "With the fallowing commands we have started two ROS Nodes -- one is a familiar turtlebot simulator and the other is a simple control node for the turtle that turns turtle around when she is near the wall so that it does not crash.\n",
    "\n",
    "\n",
    "What is also does is it calculates the distance of the turtle to the wall she is heading to.\n",
    "\n",
    "Lets see all the turtle's topics"
   ]
  },
  {
   "cell_type": "code",
   "execution_count": null,
   "metadata": {},
   "outputs": [],
   "source": [
    "turtle_topics= tuple((topic_name,topic_type) \n",
    "                     for topic_name, topic_type in rospy.get_published_topics()\n",
    "                     if \"turtle\" in topic_name)\n",
    "\n",
    "print(turtle_topics)"
   ]
  },
  {
   "cell_type": "markdown",
   "metadata": {},
   "source": [
    "There are couples of interesting topics there, like distance or pose. How can we visualize them?\n",
    "\n",
    "In the case of turtlesim it is easy to see what the distance or position are by just looking at it. That is nice but in the case of real robots, we are not only interested in the actual position and orientation but also on robots _sensor_ readings that are, **[robots sensors](http://wiki.ros.org/Sensors)**. The distance in /turtle1/distance is something calculated, but does it actually make sense? It is very important to have a way to visualize sensor data and luckily, there are many ways in ROS to do it:\n",
    "\n",
    " - The easiest way is to use** _rostopic echo_ **command. You just put, for example, rostopic echo /turtle1/distance to see the distance values. Try to do it now.\n",
    " \n",
    " - The second option is to use another ROS command -- **[rqt_plot](http://wiki.ros.org/rqt_plot)**."
   ]
  },
  {
   "cell_type": "code",
   "execution_count": null,
   "metadata": {},
   "outputs": [],
   "source": [
    "os.system(\"rqt_plot /turtle1/distance/range\") #Have fun, and close this new window before next step.\n"
   ]
  },
  {
   "cell_type": "markdown",
   "metadata": {},
   "source": [
    "The command is nice as it automatically scales a plot to fit the changing data. It also allows you to add different topics through the graphical user interface or by putting different topic names when starting the tool (i.e. rqt_prot /turtle1/distance/range /turtle1/pose/x ). There is also a settings button in the right top corner to further set things up\n",
    "\n",
    " - It would be nice though to see the things directly in the Ipython notebook, to be able to see how the things change when we play around. We will show you couple of ways to do that."
   ]
  },
  {
   "cell_type": "markdown",
   "metadata": {},
   "source": [
    "### Ipython widgets"
   ]
  },
  {
   "cell_type": "markdown",
   "metadata": {
    "collapsed": true
   },
   "source": [
    "The first way to see sensor data in Ipython, especially if there is a single changing value, is to use **slider** but as an output.\n",
    "\n",
    "To do this we will change the slider's *value* parameter in Subscriber callback function.\n",
    "\n",
    "First, let's create a slider. Because the range is a float, we will be using a float slider. "
   ]
  },
  {
   "cell_type": "code",
   "execution_count": null,
   "metadata": {},
   "outputs": [],
   "source": [
    "from ipywidgets import FloatSlider\n",
    "from IPython.display import display\n",
    "distance_slider = FloatSlider(\n",
    "    value=7.5,\n",
    "    min=0,\n",
    "    max=10.0,\n",
    "    step=0.1,\n",
    "    description='The distance to the wall',\n",
    ")\n",
    "\n",
    "distance_slider"
   ]
  },
  {
   "cell_type": "markdown",
   "metadata": {},
   "source": [
    "Now, let's create a subscriber with a callback function that changes value of the slider. \n",
    "\n"
   ]
  },
  {
   "cell_type": "code",
   "execution_count": null,
   "metadata": {
    "scrolled": false
   },
   "outputs": [],
   "source": [
    "own_node=rospy.init_node(\"distance_reader\")"
   ]
  },
  {
   "cell_type": "code",
   "execution_count": null,
   "metadata": {},
   "outputs": [],
   "source": [
    "from sensor_msgs.msg import Range\n",
    "def read_distance_show_on_slider(range_msg):\n",
    "    ''' The callback function that reads the range message from the turtle and presents it on a slider'''\n",
    "\n",
    "    distance_slider.value=range_msg.range\n",
    "\n",
    "\n",
    "distance_subscriber= rospy.Subscriber('turtle1/distance_throttle',\n",
    "                                      Range, \n",
    "                                      read_distance_show_on_slider)"
   ]
  },
  {
   "cell_type": "code",
   "execution_count": null,
   "metadata": {
    "scrolled": false
   },
   "outputs": [],
   "source": [
    "### this will stop updating the slider\n",
    "distance_subscriber.unregister()"
   ]
  },
  {
   "cell_type": "markdown",
   "metadata": {},
   "source": [
    "We can see that the slider created before runs on its own! Now it is much easier to understand what the robot \"sees\" when running around.\n",
    "\n",
    "Notice that our callback function has a second argument, to have room for some universality. We pass value to this argument by putting it to *callback_args* parameter when defining the Subscriber object."
   ]
  },
  {
   "cell_type": "markdown",
   "metadata": {},
   "source": [
    "### Exercise:\n",
    "\n",
    "There is also a control message from our \"roomba simulator\" (on topic /turtle1/cmd_vel) .\n",
    "\n",
    "Try to read the control message to see how they synchronize. Create two new sliders one for *cmd_vel.linear.x* and the second for *cmd_vel_angular.z*.\n",
    "\n",
    "Put the 3 sliders one below the other to see how these values are synchronized."
   ]
  },
  {
   "cell_type": "code",
   "execution_count": null,
   "metadata": {},
   "outputs": [],
   "source": [
    "linear_vel_slider = FloatSlider(\n",
    "    value=0,\n",
    "    min=-2,\n",
    "    max=2,\n",
    "    step=0.1,\n",
    "    description='The forward speed',\n",
    ")\n",
    "\n",
    "angular_vel_slider = FloatSlider(\n",
    "    value=0,\n",
    "    min=-10,\n",
    "    max=10,\n",
    "    step=0.1,\n",
    "    description='The angular speed',\n",
    ")"
   ]
  },
  {
   "cell_type": "code",
   "execution_count": null,
   "metadata": {},
   "outputs": [],
   "source": [
    "### define the callback function\n",
    "from geometry_msgs.msg import Twist\n",
    "\n",
    "def read_x_z_show_on_slider(twist_msg):\n",
    "    '''this function reads twist_msg coming from cmd_vel topic\n",
    "    and sends it to sliders'''\n",
    "    try:\n",
    "        linear_vel_slider.value=...\n",
    "        angular_vel_slider.value=...\n",
    "    except Exception as e:\n",
    "        print(\"There was an error\",e)\n",
    "        cmd_vel_subscriber.unregister()\n",
    "        \n",
    "### define here the two subscribe objects\n",
    "\n",
    "cmd_vel_subscriber = rospy.Subscriber('turtle1/cmd_vel', ..., ...)\n"
   ]
  },
  {
   "cell_type": "markdown",
   "metadata": {},
   "source": [
    "*HINT:*"
   ]
  },
  {
   "cell_type": "code",
   "execution_count": null,
   "metadata": {},
   "outputs": [],
   "source": [
    "import rostopic\n",
    "import rosmsg\n",
    "## code HINT\n",
    "# to see what cmd_vel is and how it is structured use\n",
    "print(\" this is what /turtle1/cmd_vel is\")\n",
    "print(rostopic.get_info_text(\"/turtle1/cmd_vel\"))\n",
    "\n",
    "# this command shows that the type of the command is geometry_msgs/Twist\n",
    "\n",
    "print(\"this is how Twist msg is constructed \\n\")\n",
    "print(rosmsg.get_msg_text(\"geometry_msgs/Twist\"))"
   ]
  },
  {
   "cell_type": "code",
   "execution_count": null,
   "metadata": {},
   "outputs": [],
   "source": [
    "### we can display all the sliders here\n",
    "\n",
    "display(distance_slider)\n",
    "display(linear_vel_slider)\n",
    "display(angular_vel_slider)"
   ]
  },
  {
   "cell_type": "code",
   "execution_count": null,
   "metadata": {},
   "outputs": [],
   "source": [
    "# here we finish the topic subscription\n",
    "cmd_vel_subscriber.unregister()\n",
    "\n",
    "distance_subscriber.unregister()\n",
    "\n"
   ]
  },
  {
   "cell_type": "markdown",
   "metadata": {},
   "source": [
    "### Using traitlets to follow the changes to our topic values\n",
    "\n",
    "While the previous approach was ok, you can see that we were mixing the display of the data (slider) with some logic -- the things we do when reading the values. We can do it in a nicer way using objects. Our object will have _traits_ -- special elements that will we will know when they change."
   ]
  },
  {
   "cell_type": "code",
   "execution_count": null,
   "metadata": {},
   "outputs": [],
   "source": [
    "import traitlets\n",
    "\n",
    "#from geometry_msgs.msg import Twist\n",
    "from turtlesim.msg import Pose\n",
    "from sensor_msgs.msg import Range\n",
    "class Gather_Data(traitlets.HasTraits):\n",
    "    '''A class that gathers information from two topics.\n",
    "    \n",
    "    Attrs:\n",
    "        distance: a traitlet for the distance of the turtle from the wall\n",
    "        lin_speed: a traitlet for the pose.linear_speed \n",
    "        ang_speed: a traitlet for the pose.angular_speed\n",
    "        x: a traitlet for the x position of the turtle, pose.x\n",
    "        y: a traitlet for the y position of the turtle, pose.y\n",
    "        theta: a traitlet for the theta postion of the turtle, pose.theta\n",
    "        position: a traitlet (touple) for the (x,y,theta)'''\n",
    "        \n",
    "    # here we define a 7 traits that we will fallow\n",
    "    distance=traitlets.Float()\n",
    "    lin_vel=traitlets.Float()\n",
    "    ang_vel=traitlets.Float()\n",
    "    x=traitlets.Float()\n",
    "    y=traitlets.Float()\n",
    "    theta=traitlets.Float()\n",
    "    position=traitlets.Tuple()\n",
    "    def __init__(self,turtle_name=\"turtle1\"):\n",
    "        '''we initialize subscribers here'''\n",
    "        self.distance_subscriber= rospy.Subscriber(turtle_name+\"/distance_throttle\",\n",
    "                                      Range, \n",
    "                                      self.read_distance)\n",
    "        self.pose_subscriber = rospy.Subscriber(turtle_name+\"/pose_throttle\",Pose,self.read_pose)\n",
    "    \n",
    "    def unregister(self):\n",
    "        '''a method for unregistering to all the topics the object is registered to'''\n",
    "        self.distance_subscriber.unregister()\n",
    "        self.cmd_vel_subscriber.unregister()\n",
    "        \n",
    "    def __del__(self):\n",
    "        '''unregister whe deleted'''\n",
    "        self.unregister()\n",
    "        \n",
    "    def read_distance(self,distance_msg):\n",
    "        '''distance callback for topic distance'''\n",
    "        self.distance=distance_msg.range # we put the value of range to a distance _traitlet_   \n",
    "        \n",
    "    def read_pose(self,pose):\n",
    "        '''a callback function that reads all the poses and saves them as object attributes'''\n",
    "        self.lin_vel= pose.linear_velocity\n",
    "        self.ang_vel = pose.angular_velocity\n",
    "        self.x=pose.x\n",
    "        self.y=pose.y\n",
    "        self.theta=pose.theta\n",
    "        self.position=(pose.x,pose.y,pose.theta)"
   ]
  },
  {
   "cell_type": "markdown",
   "metadata": {},
   "source": [
    "What we did is that we defined a class, that gathers all the data for us. This class \"has Traits\" that is, some elements are followed and we can use this to do interesting things, without clogging the class itself. But first, let's see what the class does alone."
   ]
  },
  {
   "cell_type": "code",
   "execution_count": null,
   "metadata": {},
   "outputs": [],
   "source": [
    "### We unregister first, if there is any object at all\n",
    "try:\n",
    "    data_gatherer.unregister()\n",
    "except:\n",
    "    pass\n",
    "data_gatherer=Gather_Data()"
   ]
  },
  {
   "cell_type": "code",
   "execution_count": null,
   "metadata": {
    "scrolled": true
   },
   "outputs": [],
   "source": [
    "#Try to run it couple of times:\n",
    "\n",
    "print(\"distance to the wall\",data_gatherer.distance)\n",
    "print(\"linear velocity of the turtle\",data_gatherer.lin_vel)\n",
    "print(\"angular velocity of the turtle\",data_gatherer.ang_vel)"
   ]
  },
  {
   "cell_type": "markdown",
   "metadata": {},
   "source": [
    "Now our object gathers the data \"in the background\" but we can do some interesting stuff with that.\n",
    "\n",
    "For example, we can move our sliders by connecting them to the traitlets"
   ]
  },
  {
   "cell_type": "code",
   "execution_count": null,
   "metadata": {},
   "outputs": [],
   "source": [
    "### we redefine the sliders in case you don't run all the steps one after another\n",
    "from ipywidgets import FloatSlider\n",
    "from IPython.display import display\n",
    "\n",
    "\n",
    "linear_vel_slider = FloatSlider(\n",
    "    value=0,\n",
    "    min=-2,\n",
    "    max=2,\n",
    "    step=0.1,\n",
    "    description='The forward speed',\n",
    ")\n",
    "\n",
    "angular_vel_slider = FloatSlider(\n",
    "    value=0,\n",
    "    min=-10,\n",
    "    max=10,\n",
    "    step=0.1,\n",
    "    description='The angular speed',\n",
    ")\n",
    "\n",
    "distance_slider = FloatSlider(\n",
    "    value=7.5,\n",
    "    min=0,\n",
    "    max=10.0,\n",
    "    step=0.1,\n",
    "    description='The distance to the wall',\n",
    ")"
   ]
  },
  {
   "cell_type": "markdown",
   "metadata": {},
   "source": [
    "We connect the sliders using a dynamic link (dlink) from traitlets library"
   ]
  },
  {
   "cell_type": "code",
   "execution_count": null,
   "metadata": {},
   "outputs": [],
   "source": [
    "#### here we connect the sliders to our traitlets\n",
    "\n",
    "from traitlets import dlink\n",
    "\n",
    "dl1=dlink((data_gatherer,'distance'),(distance_slider,'value'))\n",
    "dl2=dlink((data_gatherer,'lin_vel'),(linear_vel_slider,'value'))\n",
    "dl3=dlink((data_gatherer,'ang_vel'),(angular_vel_slider,'value'))\n",
    "      \n"
   ]
  },
  {
   "cell_type": "code",
   "execution_count": null,
   "metadata": {},
   "outputs": [],
   "source": [
    "display(distance_slider)\n",
    "display(linear_vel_slider)\n",
    "display(angular_vel_slider)"
   ]
  },
  {
   "cell_type": "code",
   "execution_count": null,
   "metadata": {},
   "outputs": [],
   "source": [
    "### we can unlink using the unlink method\n",
    "\n",
    "dl1.unlink()\n",
    "dl2.unlink()\n",
    "dl3.unlink()"
   ]
  },
  {
   "cell_type": "markdown",
   "metadata": {},
   "source": [
    "### Exercise:\n",
    "\n",
    "The pose message that we are reading has also the position itself, x, y,theta.\n",
    "\n",
    "Link these 3 traitlets to 3 more sliders to see them all!\n"
   ]
  },
  {
   "cell_type": "code",
   "execution_count": null,
   "metadata": {},
   "outputs": [],
   "source": [
    "from ipywidgets import FloatSlider\n",
    "from IPython.display import display\n",
    "from math import pi\n",
    "\n",
    "# put your code below\n"
   ]
  },
  {
   "cell_type": "code",
   "execution_count": null,
   "metadata": {},
   "outputs": [],
   "source": [
    "#display sliders here\n"
   ]
  },
  {
   "cell_type": "code",
   "execution_count": null,
   "metadata": {},
   "outputs": [],
   "source": [
    "#unlink\n"
   ]
  },
  {
   "cell_type": "markdown",
   "metadata": {},
   "source": [
    "### Using bokeh to visualise the data on the graph\n",
    "\n",
    "While for some data a simple moving slider is enough to realise what is going on, plots can also boost our prototyping effort."
   ]
  },
  {
   "cell_type": "code",
   "execution_count": null,
   "metadata": {},
   "outputs": [],
   "source": [
    "from bokeh.io import push_notebook, show, output_notebook\n",
    "from bokeh.plotting import figure\n",
    "from bokeh.resources import Resources\n",
    "output_notebook(resources=Resources()) #this is for offline work\n",
    "\n",
    "from bokeh.models import ColumnDataSource, Slider, Select\n"
   ]
  },
  {
   "cell_type": "markdown",
   "metadata": {},
   "source": [
    "First we will define a bokeh plot."
   ]
  },
  {
   "cell_type": "code",
   "execution_count": null,
   "metadata": {
    "scrolled": true
   },
   "outputs": [],
   "source": [
    "x=[0]\n",
    "y=[0]\n",
    "\n",
    "source = ColumnDataSource(data=dict(x=x, y=y))\n",
    "\n",
    "p = figure(title=\"turtle position\", plot_height=300, plot_width=600,x_range=(0,10), y_range=(0,10))\n",
    "#r = p.line(x, y, color=\"#2222aa\", line_width=3)\n",
    "\n",
    "\n",
    "pose_point=p.circle('x','y',source=source, size=10)\n",
    "handle=show(p, notebook_handle=True)\n"
   ]
  },
  {
   "cell_type": "markdown",
   "metadata": {},
   "source": [
    "Now let's plot a point on this graph, using a function."
   ]
  },
  {
   "cell_type": "code",
   "execution_count": null,
   "metadata": {},
   "outputs": [],
   "source": [
    "def plot_point(position):\n",
    "    '''will plot the point delivered by position:\n",
    "    \n",
    "    Args:\n",
    "        position: a touple (x,y,theta) with a position'''\n",
    "    source.stream(dict(x=[position[0]], y=[position[1]]),rollover=1)\n",
    "    \n",
    "    push_notebook(handle=handle)"
   ]
  },
  {
   "cell_type": "markdown",
   "metadata": {},
   "source": [
    "Now we can use this function, to make changes on our plot, notice that the point moves when you change the values in the touple."
   ]
  },
  {
   "cell_type": "code",
   "execution_count": null,
   "metadata": {},
   "outputs": [],
   "source": [
    "plot_point((1,1)) #we have changed the position of the point"
   ]
  },
  {
   "cell_type": "markdown",
   "metadata": {},
   "source": [
    "Similarely to the sliders, we will connect the plot to our data_gatherer, using an _observer_"
   ]
  },
  {
   "cell_type": "code",
   "execution_count": null,
   "metadata": {},
   "outputs": [],
   "source": [
    "def pass_the_position_to_plot(update):\n",
    "    '''this just passes the element \"new\" from the dictionary\n",
    "    to the plot_point function'''\n",
    "    plot_point(update[\"new\"])"
   ]
  },
  {
   "cell_type": "code",
   "execution_count": null,
   "metadata": {},
   "outputs": [],
   "source": [
    "data_gatherer.observe(pass_the_position_to_plot,names=['position'])"
   ]
  },
  {
   "cell_type": "code",
   "execution_count": null,
   "metadata": {},
   "outputs": [],
   "source": [
    "data_gatherer.unobserve_all()"
   ]
  },
  {
   "cell_type": "markdown",
   "metadata": {},
   "source": [
    "### Bonus Exercise\n",
    "\n",
    "You can also use subscriber callback directely to plot point on the graph. Try to update plot\n",
    "directely from a (\"/turtle1/pose\" subscriber callback)\n",
    "\n",
    "\n",
    "Bonus info: Actually one subscriber can have multiple callback functions so we can add a new callback to \n",
    "data_gatherer.pose_subscriber \n",
    "\n",
    "\n",
    "\n",
    "\n"
   ]
  },
  {
   "cell_type": "code",
   "execution_count": null,
   "metadata": {},
   "outputs": [],
   "source": [
    "# bonus example, how to add additional callbacks\n",
    "\n",
    "def some_new_callback(pose_msg):\n",
    "    #here for example you can use plot_point function\n",
    "    pass\n",
    "\n",
    "data_gatherer.pose_subscriber.impl.add_callback(some_new_callback,None)"
   ]
  },
  {
   "cell_type": "code",
   "execution_count": null,
   "metadata": {},
   "outputs": [],
   "source": [
    "#Your code\n"
   ]
  },
  {
   "cell_type": "markdown",
   "metadata": {
    "collapsed": true
   },
   "source": [
    "### Online plotting of time series\n",
    "\n",
    "We can also plot the incoming topic messages on a timeseries, the syntax is very similar"
   ]
  },
  {
   "cell_type": "code",
   "execution_count": null,
   "metadata": {
    "scrolled": true
   },
   "outputs": [],
   "source": [
    "import roslib\n",
    "\n",
    "source_timeseries = ColumnDataSource(data=dict(t=[], distance=[]))\n",
    "\n",
    "plot_timeseries = figure(title=\"distance plotting\", plot_height=300, plot_width=600)\n",
    "#r = p.line(x, y, color=\"#2222aa\", line_width=3)\n",
    "\n",
    "\n",
    "plot_timeseries.line(x='t', y='distance', alpha=0.2, line_width=3, color='navy', source=source_timeseries)\n",
    "#plot_timeseries.oval(x='t', y='distance', width=0.1, height=0.1, color='navy', source=source_timeseries)\n",
    "handle_timeseries=show(plot_timeseries, notebook_handle=True)\n",
    "\n",
    "def update_plot_timeseries(update):\n",
    "    '''this takes the update and streams it to a plot'''\n",
    "    \n",
    "    time_point=float(rospy.get_rostime().to_sec())\n",
    "    source_timeseries.stream(dict(t=[time_point], distance=[update[\"new\"]]),rollover=1000)\n",
    "     \n",
    "    push_notebook(handle=handle_timeseries)"
   ]
  },
  {
   "cell_type": "code",
   "execution_count": null,
   "metadata": {},
   "outputs": [],
   "source": [
    "data_gatherer.observe(update_plot_timeseries,names=['distance'])"
   ]
  },
  {
   "cell_type": "code",
   "execution_count": null,
   "metadata": {},
   "outputs": [],
   "source": [
    "data_gatherer.unobserve_all()"
   ]
  },
  {
   "cell_type": "markdown",
   "metadata": {},
   "source": [
    "### Cleanup\n",
    "\n",
    "Before closing the notebook, let's do some cleanup."
   ]
  },
  {
   "cell_type": "code",
   "execution_count": null,
   "metadata": {},
   "outputs": [],
   "source": [
    "try:\n",
    "    for process in all_processes:\n",
    "        process.stop()\n",
    "    \n",
    "except:\n",
    "    pass\n",
    "finally:\n",
    "    print(\"roslaunch processes stopped\")\n",
    "\n",
    "try:\n",
    "    data_gatherer.unregister()\n",
    "except:\n",
    "    pass\n",
    "finally:\n",
    "    print(\"data gatherer unregistered\")\n",
    "rospy.signal_shutdown(\"closing the excercise\")\n"
   ]
  },
  {
   "cell_type": "code",
   "execution_count": null,
   "metadata": {},
   "outputs": [],
   "source": [
    "roscore_process.kill()"
   ]
  },
  {
   "cell_type": "markdown",
   "metadata": {
    "collapsed": true
   },
   "source": [
    "## Wrapup\n",
    "\n",
    "What you have learned:\n",
    "\n",
    "1. How to use Ipython widgets as outputs.\n",
    "2. How to write an object that collects and distributes information from different topics.\n",
    "3. How to link traitlets and ipython widgets.\n",
    "4. How to create an automatically updating plot with bokeh.\n",
    "5. How to plot a time series with data from ROS.\n"
   ]
  },
  {
   "cell_type": "markdown",
   "metadata": {
    "collapsed": true
   },
   "source": [
    "## Great!\n",
    "\n",
    "Next step: **[Controlling_and_visualizing_the_ESP_bot.ipynb](Controlling_and_visualizing_the_ESP_bot.ipynb)**."
   ]
  }
 ],
 "metadata": {
  "kernelspec": {
   "display_name": "Python 3",
   "language": "python",
   "name": "python3"
  },
  "language_info": {
   "codemirror_mode": {
    "name": "ipython",
    "version": 3
   },
   "file_extension": ".py",
   "mimetype": "text/x-python",
   "name": "python",
   "nbconvert_exporter": "python",
   "pygments_lexer": "ipython3",
   "version": "3.5.2"
  }
 },
 "nbformat": 4,
 "nbformat_minor": 2
}
